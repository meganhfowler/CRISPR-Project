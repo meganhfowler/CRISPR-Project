{
 "cells": [
  {
   "cell_type": "code",
   "execution_count": 1,
   "id": "satellite-support",
   "metadata": {},
   "outputs": [],
   "source": [
    "import pandas as pd\n",
    "import numpy as np\n",
    "import math\n",
    "from sklearn.model_selection import train_test_split\n",
    "import scipy\n",
    "from scipy import stats\n",
    "import matplotlib.pyplot as plt\n",
    "#from sklearn.pipeline import make_pipeline\n",
    "#from sklearn.compose import make_column_transformer"
   ]
  },
  {
   "cell_type": "code",
   "execution_count": 2,
   "id": "breathing-istanbul",
   "metadata": {},
   "outputs": [],
   "source": [
    "pd.set_option('display.max_colwidth', None)"
   ]
  },
  {
   "cell_type": "code",
   "execution_count": 3,
   "id": "hourly-emphasis",
   "metadata": {},
   "outputs": [],
   "source": [
    "raw_data = pd.read_csv(\"../data/raw_data.csv\")"
   ]
  },
  {
   "cell_type": "markdown",
   "id": "exciting-battlefield",
   "metadata": {},
   "source": [
    "### Data Observations"
   ]
  },
  {
   "cell_type": "markdown",
   "id": "threatened-folder",
   "metadata": {},
   "source": [
    "##### More than half the dataset is from the NucleaSeq Finkelstein experiments\n",
    "##### Finkelstein experiments do not contain cell line or chromosome due to being in vitro\n",
    "##### Finkelstein experiments do not contain target_context\n",
    "##### Sequences are variable lengths\n",
    "##### target_sequence ranges in length 20-25 nt\n",
    "##### grna_target_sequence ranges in length 22-24 nt\n",
    "##### 75 pairs which do not have a cleavage frequency\n",
    "##### Length of grna != length of target for some pairs"
   ]
  },
  {
   "cell_type": "markdown",
   "id": "postal-anderson",
   "metadata": {},
   "source": [
    "### Split Training and Testing"
   ]
  },
  {
   "cell_type": "code",
   "execution_count": 4,
   "id": "interim-hollow",
   "metadata": {},
   "outputs": [],
   "source": [
    "df_train, df_test = train_test_split(raw_data, test_size=0.2)"
   ]
  },
  {
   "cell_type": "markdown",
   "id": "bottom-convertible",
   "metadata": {},
   "source": [
    "### Preprocessing"
   ]
  },
  {
   "cell_type": "code",
   "execution_count": 5,
   "id": "brief-conservative",
   "metadata": {},
   "outputs": [],
   "source": [
    "class Preprocessing:\n",
    "    def select(df, params):\n",
    "        df = df[params].convert_dtypes()\n",
    "        return df\n",
    "    \n",
    "    def drop_na(df, params):\n",
    "        for col in params:\n",
    "            df = df[df[col].notna()]\n",
    "        return df\n",
    "    \n",
    "    def remove_dash(df, params):\n",
    "        for col in df.select_dtypes(exclude=['number']).columns:\n",
    "            df[col] = [\n",
    "                seq.replace(\"-\", \"\")\n",
    "                for seq in df[col]\n",
    "            ]\n",
    "        return df\n",
    "    \n",
    "    def pad(df, params):\n",
    "        for col in df.select_dtypes(exclude=['number']).columns:\n",
    "            df[col] = df[col].str.pad(width=50, side='right', fillchar='X')\n",
    "        return df\n",
    "    \n",
    "    def encode_nt(nt: str) -> int:\n",
    "        assert len(nt) == 1\n",
    "        encoding_dict = {\n",
    "            'X':0, \n",
    "            'A':0.25,\n",
    "            'T':0.50,\n",
    "            'G':0.75,\n",
    "            'C':1.00\n",
    "        }\n",
    "        return encoding_dict.get(nt.upper())\n",
    "    \n",
    "    def encode_seq(seq: str):\n",
    "        encoding = [\n",
    "            Preprocessing.encode_nt(nt)\n",
    "            for nt in seq\n",
    "        ]\n",
    "        return np.array(encoding)\n",
    "    \n",
    "    def encode(df, params):\n",
    "        for col in df.select_dtypes(exclude=['number']).columns:\n",
    "            df[col] = [\n",
    "                Preprocessing.encode_seq(seq)\n",
    "                for seq in df[col]\n",
    "            ]\n",
    "        return df"
   ]
  },
  {
   "cell_type": "markdown",
   "id": "annoying-weekly",
   "metadata": {},
   "source": [
    "##### Version 1"
   ]
  },
  {
   "cell_type": "code",
   "execution_count": 6,
   "id": "killing-article",
   "metadata": {},
   "outputs": [],
   "source": [
    "params = [\"grna_target_sequence\", \"target_sequence\", \"delivery_mode\", \"cleavage_freq\"]"
   ]
  },
  {
   "cell_type": "code",
   "execution_count": 7,
   "id": "efficient-package",
   "metadata": {},
   "outputs": [
    {
     "data": {
      "text/html": [
       "<div>\n",
       "<style scoped>\n",
       "    .dataframe tbody tr th:only-of-type {\n",
       "        vertical-align: middle;\n",
       "    }\n",
       "\n",
       "    .dataframe tbody tr th {\n",
       "        vertical-align: top;\n",
       "    }\n",
       "\n",
       "    .dataframe thead th {\n",
       "        text-align: right;\n",
       "    }\n",
       "</style>\n",
       "<table border=\"1\" class=\"dataframe\">\n",
       "  <thead>\n",
       "    <tr style=\"text-align: right;\">\n",
       "      <th></th>\n",
       "      <th>grna_target_sequence</th>\n",
       "      <th>target_sequence</th>\n",
       "      <th>delivery_mode</th>\n",
       "      <th>cleavage_freq</th>\n",
       "    </tr>\n",
       "  </thead>\n",
       "  <tbody>\n",
       "    <tr>\n",
       "      <th>12288</th>\n",
       "      <td>[0.75, 0.25, 1.0, 0.75, 1.0, 0.25, 0.5, 0.25, 0.25, 0.25, 0.75, 0.25, 0.5, 0.75, 0.25, 0.75, 0.25, 1.0, 0.75, 1.0, 0.5, 0.75, 0.75, 0.0, 0.0, 0.0, 0.0, 0.0, 0.0, 0.0, 0.0, 0.0, 0.0, 0.0, 0.0, 0.0, 0.0, 0.0, 0.0, 0.0, 0.0, 0.0, 0.0, 0.0, 0.0, 0.0, 0.0, 0.0, 0.0, 0.0]</td>\n",
       "      <td>[0.75, 0.25, 1.0, 0.75, 1.0, 0.25, 0.5, 0.25, 0.25, 0.75, 0.75, 1.0, 0.5, 0.75, 0.25, 0.75, 0.25, 1.0, 0.75, 1.0, 0.5, 0.75, 0.75, 0.0, 0.0, 0.0, 0.0, 0.0, 0.0, 0.0, 0.0, 0.0, 0.0, 0.0, 0.0, 0.0, 0.0, 0.0, 0.0, 0.0, 0.0, 0.0, 0.0, 0.0, 0.0, 0.0, 0.0, 0.0, 0.0, 0.0]</td>\n",
       "      <td>2</td>\n",
       "      <td>3.360987e-04</td>\n",
       "    </tr>\n",
       "    <tr>\n",
       "      <th>11349</th>\n",
       "      <td>[0.75, 0.25, 1.0, 1.0, 1.0, 1.0, 1.0, 0.5, 1.0, 1.0, 0.25, 1.0, 1.0, 1.0, 1.0, 0.75, 1.0, 1.0, 0.5, 1.0, 1.0, 0.75, 0.75, 0.0, 0.0, 0.0, 0.0, 0.0, 0.0, 0.0, 0.0, 0.0, 0.0, 0.0, 0.0, 0.0, 0.0, 0.0, 0.0, 0.0, 0.0, 0.0, 0.0, 0.0, 0.0, 0.0, 0.0, 0.0, 0.0, 0.0]</td>\n",
       "      <td>[0.75, 1.0, 0.5, 0.5, 1.0, 1.0, 1.0, 0.5, 1.0, 1.0, 0.25, 1.0, 1.0, 1.0, 1.0, 0.75, 1.0, 0.25, 0.5, 1.0, 1.0, 0.75, 0.75, 0.0, 0.0, 0.0, 0.0, 0.0, 0.0, 0.0, 0.0, 0.0, 0.0, 0.0, 0.0, 0.0, 0.0, 0.0, 0.0, 0.0, 0.0, 0.0, 0.0, 0.0, 0.0, 0.0, 0.0, 0.0, 0.0, 0.0]</td>\n",
       "      <td>0</td>\n",
       "      <td>4.037469e-02</td>\n",
       "    </tr>\n",
       "    <tr>\n",
       "      <th>12385</th>\n",
       "      <td>[0.75, 0.25, 1.0, 0.75, 1.0, 0.25, 0.5, 0.25, 0.25, 0.25, 0.75, 0.25, 0.5, 0.75, 0.25, 0.75, 0.25, 1.0, 0.75, 1.0, 0.5, 0.75, 0.75, 0.0, 0.0, 0.0, 0.0, 0.0, 0.0, 0.0, 0.0, 0.0, 0.0, 0.0, 0.0, 0.0, 0.0, 0.0, 0.0, 0.0, 0.0, 0.0, 0.0, 0.0, 0.0, 0.0, 0.0, 0.0, 0.0, 0.0]</td>\n",
       "      <td>[0.75, 0.25, 1.0, 0.75, 1.0, 0.25, 0.5, 0.25, 0.25, 1.0, 0.75, 0.25, 1.0, 0.75, 0.25, 0.75, 0.25, 1.0, 0.75, 1.0, 0.5, 0.75, 0.75, 0.0, 0.0, 0.0, 0.0, 0.0, 0.0, 0.0, 0.0, 0.0, 0.0, 0.0, 0.0, 0.0, 0.0, 0.0, 0.0, 0.0, 0.0, 0.0, 0.0, 0.0, 0.0, 0.0, 0.0, 0.0, 0.0, 0.0]</td>\n",
       "      <td>2</td>\n",
       "      <td>2.646545e-04</td>\n",
       "    </tr>\n",
       "    <tr>\n",
       "      <th>20824</th>\n",
       "      <td>[0.75, 0.5, 0.75, 0.25, 0.5, 0.25, 0.25, 0.75, 0.5, 0.75, 0.75, 0.25, 0.25, 0.5, 0.75, 1.0, 1.0, 0.25, 0.5, 0.75, 0.5, 0.75, 0.75, 0.0, 0.0, 0.0, 0.0, 0.0, 0.0, 0.0, 0.0, 0.0, 0.0, 0.0, 0.0, 0.0, 0.0, 0.0, 0.0, 0.0, 0.0, 0.0, 0.0, 0.0, 0.0, 0.0, 0.0, 0.0, 0.0, 0.0]</td>\n",
       "      <td>[0.75, 0.5, 0.75, 0.25, 0.5, 0.25, 0.25, 0.75, 0.5, 0.75, 0.75, 0.25, 0.25, 0.5, 0.75, 1.0, 1.0, 0.25, 0.5, 0.25, 0.5, 0.25, 0.75, 0.0, 0.0, 0.0, 0.0, 0.0, 0.0, 0.0, 0.0, 0.0, 0.0, 0.0, 0.0, 0.0, 0.0, 0.0, 0.0, 0.0, 0.0, 0.0, 0.0, 0.0, 0.0, 0.0, 0.0, 0.0, 0.0, 0.0]</td>\n",
       "      <td>2</td>\n",
       "      <td>2.053841e-05</td>\n",
       "    </tr>\n",
       "    <tr>\n",
       "      <th>21688</th>\n",
       "      <td>[0.75, 0.5, 0.75, 0.25, 0.5, 0.25, 0.25, 0.75, 0.5, 0.75, 0.75, 0.25, 0.25, 0.5, 0.75, 1.0, 1.0, 0.25, 0.5, 0.75, 0.5, 0.75, 0.75, 0.0, 0.0, 0.0, 0.0, 0.0, 0.0, 0.0, 0.0, 0.0, 0.0, 0.0, 0.0, 0.0, 0.0, 0.0, 0.0, 0.0, 0.0, 0.0, 0.0, 0.0, 0.0, 0.0, 0.0, 0.0, 0.0, 0.0]</td>\n",
       "      <td>[0.75, 0.5, 0.75, 0.75, 0.25, 0.5, 0.25, 0.25, 0.5, 0.75, 0.5, 0.75, 0.75, 0.25, 0.25, 0.5, 0.75, 1.0, 1.0, 0.25, 0.5, 0.75, 0.5, 0.75, 0.75, 0.0, 0.0, 0.0, 0.0, 0.0, 0.0, 0.0, 0.0, 0.0, 0.0, 0.0, 0.0, 0.0, 0.0, 0.0, 0.0, 0.0, 0.0, 0.0, 0.0, 0.0, 0.0, 0.0, 0.0, 0.0]</td>\n",
       "      <td>2</td>\n",
       "      <td>2.865605e-05</td>\n",
       "    </tr>\n",
       "    <tr>\n",
       "      <th>...</th>\n",
       "      <td>...</td>\n",
       "      <td>...</td>\n",
       "      <td>...</td>\n",
       "      <td>...</td>\n",
       "    </tr>\n",
       "    <tr>\n",
       "      <th>5006</th>\n",
       "      <td>[0.75, 0.25, 1.0, 1.0, 1.0, 1.0, 1.0, 0.5, 1.0, 1.0, 0.25, 1.0, 1.0, 1.0, 1.0, 0.75, 1.0, 1.0, 0.5, 1.0, 1.0, 0.75, 0.75, 0.0, 0.0, 0.0, 0.0, 0.0, 0.0, 0.0, 0.0, 0.0, 0.0, 0.0, 0.0, 0.0, 0.0, 0.0, 0.0, 0.0, 0.0, 0.0, 0.0, 0.0, 0.0, 0.0, 0.0, 0.0, 0.0, 0.0]</td>\n",
       "      <td>[0.75, 1.0, 1.0, 1.0, 1.0, 1.0, 1.0, 0.25, 1.0, 1.0, 0.25, 0.5, 1.0, 1.0, 1.0, 0.25, 1.0, 1.0, 1.0, 1.0, 0.25, 0.75, 0.75, 0.0, 0.0, 0.0, 0.0, 0.0, 0.0, 0.0, 0.0, 0.0, 0.0, 0.0, 0.0, 0.0, 0.0, 0.0, 0.0, 0.0, 0.0, 0.0, 0.0, 0.0, 0.0, 0.0, 0.0, 0.0, 0.0, 0.0]</td>\n",
       "      <td>0</td>\n",
       "      <td>1.850000e-04</td>\n",
       "    </tr>\n",
       "    <tr>\n",
       "      <th>23951</th>\n",
       "      <td>[0.75, 0.5, 0.75, 0.25, 0.5, 0.25, 0.25, 0.75, 0.5, 0.75, 0.75, 0.25, 0.25, 0.5, 0.75, 1.0, 1.0, 0.25, 0.5, 0.75, 0.5, 0.75, 0.75, 0.0, 0.0, 0.0, 0.0, 0.0, 0.0, 0.0, 0.0, 0.0, 0.0, 0.0, 0.0, 0.0, 0.0, 0.0, 0.0, 0.0, 0.0, 0.0, 0.0, 0.0, 0.0, 0.0, 0.0, 0.0, 0.0, 0.0]</td>\n",
       "      <td>[0.75, 0.5, 0.75, 0.25, 0.5, 0.25, 0.25, 0.75, 0.5, 0.75, 0.75, 0.25, 0.25, 0.25, 0.5, 0.75, 1.0, 1.0, 0.25, 0.75, 0.5, 0.75, 0.5, 0.75, 0.75, 0.0, 0.0, 0.0, 0.0, 0.0, 0.0, 0.0, 0.0, 0.0, 0.0, 0.0, 0.0, 0.0, 0.0, 0.0, 0.0, 0.0, 0.0, 0.0, 0.0, 0.0, 0.0, 0.0, 0.0, 0.0]</td>\n",
       "      <td>2</td>\n",
       "      <td>5.788549e-20</td>\n",
       "    </tr>\n",
       "    <tr>\n",
       "      <th>4781</th>\n",
       "      <td>[0.75, 0.25, 1.0, 1.0, 1.0, 1.0, 1.0, 0.5, 1.0, 1.0, 0.25, 1.0, 1.0, 1.0, 1.0, 0.75, 1.0, 1.0, 0.5, 1.0, 1.0, 0.75, 0.75, 0.0, 0.0, 0.0, 0.0, 0.0, 0.0, 0.0, 0.0, 0.0, 0.0, 0.0, 0.0, 0.0, 0.0, 0.0, 0.0, 0.0, 0.0, 0.0, 0.0, 0.0, 0.0, 0.0, 0.0, 0.0, 0.0, 0.0]</td>\n",
       "      <td>[0.5, 0.5, 1.0, 1.0, 1.0, 0.5, 1.0, 0.5, 1.0, 1.0, 0.25, 1.0, 1.0, 1.0, 1.0, 0.5, 1.0, 1.0, 0.5, 1.0, 1.0, 0.25, 0.75, 0.0, 0.0, 0.0, 0.0, 0.0, 0.0, 0.0, 0.0, 0.0, 0.0, 0.0, 0.0, 0.0, 0.0, 0.0, 0.0, 0.0, 0.0, 0.0, 0.0, 0.0, 0.0, 0.0, 0.0, 0.0, 0.0, 0.0]</td>\n",
       "      <td>0</td>\n",
       "      <td>2.840000e-04</td>\n",
       "    </tr>\n",
       "    <tr>\n",
       "      <th>18424</th>\n",
       "      <td>[0.75, 0.25, 1.0, 0.75, 1.0, 0.25, 0.5, 0.25, 0.25, 0.25, 0.75, 0.25, 0.5, 0.75, 0.25, 0.75, 0.25, 1.0, 0.75, 1.0, 0.5, 0.75, 0.75, 0.0, 0.0, 0.0, 0.0, 0.0, 0.0, 0.0, 0.0, 0.0, 0.0, 0.0, 0.0, 0.0, 0.0, 0.0, 0.0, 0.0, 0.0, 0.0, 0.0, 0.0, 0.0, 0.0, 0.0, 0.0, 0.0, 0.0]</td>\n",
       "      <td>[0.75, 0.5, 0.75, 1.0, 0.75, 0.5, 0.25, 0.5, 0.5, 0.5, 1.0, 0.5, 0.25, 1.0, 0.5, 1.0, 0.5, 0.75, 0.75, 1.0, 0.5, 0.75, 0.75, 0.0, 0.0, 0.0, 0.0, 0.0, 0.0, 0.0, 0.0, 0.0, 0.0, 0.0, 0.0, 0.0, 0.0, 0.0, 0.0, 0.0, 0.0, 0.0, 0.0, 0.0, 0.0, 0.0, 0.0, 0.0, 0.0, 0.0]</td>\n",
       "      <td>2</td>\n",
       "      <td>6.503156e-06</td>\n",
       "    </tr>\n",
       "    <tr>\n",
       "      <th>663</th>\n",
       "      <td>[0.75, 0.75, 1.0, 0.25, 1.0, 0.5, 0.75, 1.0, 0.75, 0.75, 1.0, 0.5, 0.75, 0.75, 0.25, 0.75, 0.75, 0.5, 0.75, 0.75, 0.75, 0.75, 0.75, 0.0, 0.0, 0.0, 0.0, 0.0, 0.0, 0.0, 0.0, 0.0, 0.0, 0.0, 0.0, 0.0, 0.0, 0.0, 0.0, 0.0, 0.0, 0.0, 0.0, 0.0, 0.0, 0.0, 0.0, 0.0, 0.0, 0.0]</td>\n",
       "      <td>[0.5, 0.75, 1.0, 0.25, 1.0, 0.5, 0.75, 0.5, 0.75, 0.75, 1.0, 0.5, 0.75, 0.75, 0.25, 0.75, 0.25, 0.5, 0.75, 0.75, 0.75, 0.75, 0.75, 0.0, 0.0, 0.0, 0.0, 0.0, 0.0, 0.0, 0.0, 0.0, 0.0, 0.0, 0.0, 0.0, 0.0, 0.0, 0.0, 0.0, 0.0, 0.0, 0.0, 0.0, 0.0, 0.0, 0.0, 0.0, 0.0, 0.0]</td>\n",
       "      <td>0</td>\n",
       "      <td>1.463800e-02</td>\n",
       "    </tr>\n",
       "  </tbody>\n",
       "</table>\n",
       "<p>20445 rows × 4 columns</p>\n",
       "</div>"
      ],
      "text/plain": [
       "                                                                                                                                                                                                                                                             grna_target_sequence  \\\n",
       "12288  [0.75, 0.25, 1.0, 0.75, 1.0, 0.25, 0.5, 0.25, 0.25, 0.25, 0.75, 0.25, 0.5, 0.75, 0.25, 0.75, 0.25, 1.0, 0.75, 1.0, 0.5, 0.75, 0.75, 0.0, 0.0, 0.0, 0.0, 0.0, 0.0, 0.0, 0.0, 0.0, 0.0, 0.0, 0.0, 0.0, 0.0, 0.0, 0.0, 0.0, 0.0, 0.0, 0.0, 0.0, 0.0, 0.0, 0.0, 0.0, 0.0, 0.0]   \n",
       "11349            [0.75, 0.25, 1.0, 1.0, 1.0, 1.0, 1.0, 0.5, 1.0, 1.0, 0.25, 1.0, 1.0, 1.0, 1.0, 0.75, 1.0, 1.0, 0.5, 1.0, 1.0, 0.75, 0.75, 0.0, 0.0, 0.0, 0.0, 0.0, 0.0, 0.0, 0.0, 0.0, 0.0, 0.0, 0.0, 0.0, 0.0, 0.0, 0.0, 0.0, 0.0, 0.0, 0.0, 0.0, 0.0, 0.0, 0.0, 0.0, 0.0, 0.0]   \n",
       "12385  [0.75, 0.25, 1.0, 0.75, 1.0, 0.25, 0.5, 0.25, 0.25, 0.25, 0.75, 0.25, 0.5, 0.75, 0.25, 0.75, 0.25, 1.0, 0.75, 1.0, 0.5, 0.75, 0.75, 0.0, 0.0, 0.0, 0.0, 0.0, 0.0, 0.0, 0.0, 0.0, 0.0, 0.0, 0.0, 0.0, 0.0, 0.0, 0.0, 0.0, 0.0, 0.0, 0.0, 0.0, 0.0, 0.0, 0.0, 0.0, 0.0, 0.0]   \n",
       "20824   [0.75, 0.5, 0.75, 0.25, 0.5, 0.25, 0.25, 0.75, 0.5, 0.75, 0.75, 0.25, 0.25, 0.5, 0.75, 1.0, 1.0, 0.25, 0.5, 0.75, 0.5, 0.75, 0.75, 0.0, 0.0, 0.0, 0.0, 0.0, 0.0, 0.0, 0.0, 0.0, 0.0, 0.0, 0.0, 0.0, 0.0, 0.0, 0.0, 0.0, 0.0, 0.0, 0.0, 0.0, 0.0, 0.0, 0.0, 0.0, 0.0, 0.0]   \n",
       "21688   [0.75, 0.5, 0.75, 0.25, 0.5, 0.25, 0.25, 0.75, 0.5, 0.75, 0.75, 0.25, 0.25, 0.5, 0.75, 1.0, 1.0, 0.25, 0.5, 0.75, 0.5, 0.75, 0.75, 0.0, 0.0, 0.0, 0.0, 0.0, 0.0, 0.0, 0.0, 0.0, 0.0, 0.0, 0.0, 0.0, 0.0, 0.0, 0.0, 0.0, 0.0, 0.0, 0.0, 0.0, 0.0, 0.0, 0.0, 0.0, 0.0, 0.0]   \n",
       "...                                                                                                                                                                                                                                                                           ...   \n",
       "5006             [0.75, 0.25, 1.0, 1.0, 1.0, 1.0, 1.0, 0.5, 1.0, 1.0, 0.25, 1.0, 1.0, 1.0, 1.0, 0.75, 1.0, 1.0, 0.5, 1.0, 1.0, 0.75, 0.75, 0.0, 0.0, 0.0, 0.0, 0.0, 0.0, 0.0, 0.0, 0.0, 0.0, 0.0, 0.0, 0.0, 0.0, 0.0, 0.0, 0.0, 0.0, 0.0, 0.0, 0.0, 0.0, 0.0, 0.0, 0.0, 0.0, 0.0]   \n",
       "23951   [0.75, 0.5, 0.75, 0.25, 0.5, 0.25, 0.25, 0.75, 0.5, 0.75, 0.75, 0.25, 0.25, 0.5, 0.75, 1.0, 1.0, 0.25, 0.5, 0.75, 0.5, 0.75, 0.75, 0.0, 0.0, 0.0, 0.0, 0.0, 0.0, 0.0, 0.0, 0.0, 0.0, 0.0, 0.0, 0.0, 0.0, 0.0, 0.0, 0.0, 0.0, 0.0, 0.0, 0.0, 0.0, 0.0, 0.0, 0.0, 0.0, 0.0]   \n",
       "4781             [0.75, 0.25, 1.0, 1.0, 1.0, 1.0, 1.0, 0.5, 1.0, 1.0, 0.25, 1.0, 1.0, 1.0, 1.0, 0.75, 1.0, 1.0, 0.5, 1.0, 1.0, 0.75, 0.75, 0.0, 0.0, 0.0, 0.0, 0.0, 0.0, 0.0, 0.0, 0.0, 0.0, 0.0, 0.0, 0.0, 0.0, 0.0, 0.0, 0.0, 0.0, 0.0, 0.0, 0.0, 0.0, 0.0, 0.0, 0.0, 0.0, 0.0]   \n",
       "18424  [0.75, 0.25, 1.0, 0.75, 1.0, 0.25, 0.5, 0.25, 0.25, 0.25, 0.75, 0.25, 0.5, 0.75, 0.25, 0.75, 0.25, 1.0, 0.75, 1.0, 0.5, 0.75, 0.75, 0.0, 0.0, 0.0, 0.0, 0.0, 0.0, 0.0, 0.0, 0.0, 0.0, 0.0, 0.0, 0.0, 0.0, 0.0, 0.0, 0.0, 0.0, 0.0, 0.0, 0.0, 0.0, 0.0, 0.0, 0.0, 0.0, 0.0]   \n",
       "663    [0.75, 0.75, 1.0, 0.25, 1.0, 0.5, 0.75, 1.0, 0.75, 0.75, 1.0, 0.5, 0.75, 0.75, 0.25, 0.75, 0.75, 0.5, 0.75, 0.75, 0.75, 0.75, 0.75, 0.0, 0.0, 0.0, 0.0, 0.0, 0.0, 0.0, 0.0, 0.0, 0.0, 0.0, 0.0, 0.0, 0.0, 0.0, 0.0, 0.0, 0.0, 0.0, 0.0, 0.0, 0.0, 0.0, 0.0, 0.0, 0.0, 0.0]   \n",
       "\n",
       "                                                                                                                                                                                                                                                                   target_sequence  \\\n",
       "12288    [0.75, 0.25, 1.0, 0.75, 1.0, 0.25, 0.5, 0.25, 0.25, 0.75, 0.75, 1.0, 0.5, 0.75, 0.25, 0.75, 0.25, 1.0, 0.75, 1.0, 0.5, 0.75, 0.75, 0.0, 0.0, 0.0, 0.0, 0.0, 0.0, 0.0, 0.0, 0.0, 0.0, 0.0, 0.0, 0.0, 0.0, 0.0, 0.0, 0.0, 0.0, 0.0, 0.0, 0.0, 0.0, 0.0, 0.0, 0.0, 0.0, 0.0]   \n",
       "11349             [0.75, 1.0, 0.5, 0.5, 1.0, 1.0, 1.0, 0.5, 1.0, 1.0, 0.25, 1.0, 1.0, 1.0, 1.0, 0.75, 1.0, 0.25, 0.5, 1.0, 1.0, 0.75, 0.75, 0.0, 0.0, 0.0, 0.0, 0.0, 0.0, 0.0, 0.0, 0.0, 0.0, 0.0, 0.0, 0.0, 0.0, 0.0, 0.0, 0.0, 0.0, 0.0, 0.0, 0.0, 0.0, 0.0, 0.0, 0.0, 0.0, 0.0]   \n",
       "12385    [0.75, 0.25, 1.0, 0.75, 1.0, 0.25, 0.5, 0.25, 0.25, 1.0, 0.75, 0.25, 1.0, 0.75, 0.25, 0.75, 0.25, 1.0, 0.75, 1.0, 0.5, 0.75, 0.75, 0.0, 0.0, 0.0, 0.0, 0.0, 0.0, 0.0, 0.0, 0.0, 0.0, 0.0, 0.0, 0.0, 0.0, 0.0, 0.0, 0.0, 0.0, 0.0, 0.0, 0.0, 0.0, 0.0, 0.0, 0.0, 0.0, 0.0]   \n",
       "20824    [0.75, 0.5, 0.75, 0.25, 0.5, 0.25, 0.25, 0.75, 0.5, 0.75, 0.75, 0.25, 0.25, 0.5, 0.75, 1.0, 1.0, 0.25, 0.5, 0.25, 0.5, 0.25, 0.75, 0.0, 0.0, 0.0, 0.0, 0.0, 0.0, 0.0, 0.0, 0.0, 0.0, 0.0, 0.0, 0.0, 0.0, 0.0, 0.0, 0.0, 0.0, 0.0, 0.0, 0.0, 0.0, 0.0, 0.0, 0.0, 0.0, 0.0]   \n",
       "21688   [0.75, 0.5, 0.75, 0.75, 0.25, 0.5, 0.25, 0.25, 0.5, 0.75, 0.5, 0.75, 0.75, 0.25, 0.25, 0.5, 0.75, 1.0, 1.0, 0.25, 0.5, 0.75, 0.5, 0.75, 0.75, 0.0, 0.0, 0.0, 0.0, 0.0, 0.0, 0.0, 0.0, 0.0, 0.0, 0.0, 0.0, 0.0, 0.0, 0.0, 0.0, 0.0, 0.0, 0.0, 0.0, 0.0, 0.0, 0.0, 0.0, 0.0]   \n",
       "...                                                                                                                                                                                                                                                                            ...   \n",
       "5006             [0.75, 1.0, 1.0, 1.0, 1.0, 1.0, 1.0, 0.25, 1.0, 1.0, 0.25, 0.5, 1.0, 1.0, 1.0, 0.25, 1.0, 1.0, 1.0, 1.0, 0.25, 0.75, 0.75, 0.0, 0.0, 0.0, 0.0, 0.0, 0.0, 0.0, 0.0, 0.0, 0.0, 0.0, 0.0, 0.0, 0.0, 0.0, 0.0, 0.0, 0.0, 0.0, 0.0, 0.0, 0.0, 0.0, 0.0, 0.0, 0.0, 0.0]   \n",
       "23951  [0.75, 0.5, 0.75, 0.25, 0.5, 0.25, 0.25, 0.75, 0.5, 0.75, 0.75, 0.25, 0.25, 0.25, 0.5, 0.75, 1.0, 1.0, 0.25, 0.75, 0.5, 0.75, 0.5, 0.75, 0.75, 0.0, 0.0, 0.0, 0.0, 0.0, 0.0, 0.0, 0.0, 0.0, 0.0, 0.0, 0.0, 0.0, 0.0, 0.0, 0.0, 0.0, 0.0, 0.0, 0.0, 0.0, 0.0, 0.0, 0.0, 0.0]   \n",
       "4781                 [0.5, 0.5, 1.0, 1.0, 1.0, 0.5, 1.0, 0.5, 1.0, 1.0, 0.25, 1.0, 1.0, 1.0, 1.0, 0.5, 1.0, 1.0, 0.5, 1.0, 1.0, 0.25, 0.75, 0.0, 0.0, 0.0, 0.0, 0.0, 0.0, 0.0, 0.0, 0.0, 0.0, 0.0, 0.0, 0.0, 0.0, 0.0, 0.0, 0.0, 0.0, 0.0, 0.0, 0.0, 0.0, 0.0, 0.0, 0.0, 0.0, 0.0]   \n",
       "18424          [0.75, 0.5, 0.75, 1.0, 0.75, 0.5, 0.25, 0.5, 0.5, 0.5, 1.0, 0.5, 0.25, 1.0, 0.5, 1.0, 0.5, 0.75, 0.75, 1.0, 0.5, 0.75, 0.75, 0.0, 0.0, 0.0, 0.0, 0.0, 0.0, 0.0, 0.0, 0.0, 0.0, 0.0, 0.0, 0.0, 0.0, 0.0, 0.0, 0.0, 0.0, 0.0, 0.0, 0.0, 0.0, 0.0, 0.0, 0.0, 0.0, 0.0]   \n",
       "663      [0.5, 0.75, 1.0, 0.25, 1.0, 0.5, 0.75, 0.5, 0.75, 0.75, 1.0, 0.5, 0.75, 0.75, 0.25, 0.75, 0.25, 0.5, 0.75, 0.75, 0.75, 0.75, 0.75, 0.0, 0.0, 0.0, 0.0, 0.0, 0.0, 0.0, 0.0, 0.0, 0.0, 0.0, 0.0, 0.0, 0.0, 0.0, 0.0, 0.0, 0.0, 0.0, 0.0, 0.0, 0.0, 0.0, 0.0, 0.0, 0.0, 0.0]   \n",
       "\n",
       "       delivery_mode  cleavage_freq  \n",
       "12288              2   3.360987e-04  \n",
       "11349              0   4.037469e-02  \n",
       "12385              2   2.646545e-04  \n",
       "20824              2   2.053841e-05  \n",
       "21688              2   2.865605e-05  \n",
       "...              ...            ...  \n",
       "5006               0   1.850000e-04  \n",
       "23951              2   5.788549e-20  \n",
       "4781               0   2.840000e-04  \n",
       "18424              2   6.503156e-06  \n",
       "663                0   1.463800e-02  \n",
       "\n",
       "[20445 rows x 4 columns]"
      ]
     },
     "execution_count": 7,
     "metadata": {},
     "output_type": "execute_result"
    }
   ],
   "source": [
    "df_train = Preprocessing.select(df_train, params)\n",
    "df_train = Preprocessing.drop_na(df_train, params)\n",
    "df_train = Preprocessing.remove_dash(df_train, params)\n",
    "df_train = Preprocessing.pad(df_train, params)\n",
    "df_train = Preprocessing.encode(df_train, params)\n",
    "df_train"
   ]
  },
  {
   "cell_type": "markdown",
   "id": "capital-february",
   "metadata": {},
   "source": [
    "### Data Transformation"
   ]
  },
  {
   "cell_type": "markdown",
   "id": "solved-leone",
   "metadata": {},
   "source": [
    "##### According to reference, should transform cleavage rates to approximate a Gaussian with zero mean and variance 𝜎^2=2 using the nonlinear Box–Cox transformation.\n",
    "\n",
    "##### Values above and below ±2𝜎 should be capped in order to achieve a fixed value range\n",
    "##### measured cleavage rates below the lowest reported measurement accuracy (10−5 in our case) should be manually transformed to −2𝜎"
   ]
  },
  {
   "cell_type": "code",
   "execution_count": 8,
   "id": "vietnamese-registrar",
   "metadata": {},
   "outputs": [
    {
     "name": "stderr",
     "output_type": "stream",
     "text": [
      "/home/megan/.local/lib/python3.7/site-packages/ipykernel_launcher.py:5: SettingWithCopyWarning: \n",
      "A value is trying to be set on a copy of a slice from a DataFrame.\n",
      "Try using .loc[row_indexer,col_indexer] = value instead\n",
      "\n",
      "See the caveats in the documentation: https://pandas.pydata.org/pandas-docs/stable/user_guide/indexing.html#returning-a-view-versus-a-copy\n",
      "  \"\"\"\n",
      "/home/megan/.local/lib/python3.7/site-packages/ipykernel_launcher.py:8: DeprecationWarning: scipy.mean is deprecated and will be removed in SciPy 2.0.0, use numpy.mean instead\n",
      "  \n",
      "/home/megan/.local/lib/python3.7/site-packages/ipykernel_launcher.py:12: SettingWithCopyWarning: \n",
      "A value is trying to be set on a copy of a slice from a DataFrame.\n",
      "Try using .loc[row_indexer,col_indexer] = value instead\n",
      "\n",
      "See the caveats in the documentation: https://pandas.pydata.org/pandas-docs/stable/user_guide/indexing.html#returning-a-view-versus-a-copy\n",
      "  if sys.path[0] == '':\n",
      "/home/megan/.local/lib/python3.7/site-packages/ipykernel_launcher.py:15: SettingWithCopyWarning: \n",
      "A value is trying to be set on a copy of a slice from a DataFrame.\n",
      "Try using .loc[row_indexer,col_indexer] = value instead\n",
      "\n",
      "See the caveats in the documentation: https://pandas.pydata.org/pandas-docs/stable/user_guide/indexing.html#returning-a-view-versus-a-copy\n",
      "  from ipykernel import kernelapp as app\n",
      "/home/megan/.local/lib/python3.7/site-packages/ipykernel_launcher.py:16: SettingWithCopyWarning: \n",
      "A value is trying to be set on a copy of a slice from a DataFrame.\n",
      "Try using .loc[row_indexer,col_indexer] = value instead\n",
      "\n",
      "See the caveats in the documentation: https://pandas.pydata.org/pandas-docs/stable/user_guide/indexing.html#returning-a-view-versus-a-copy\n",
      "  app.launch_new_instance()\n",
      "/home/megan/.local/lib/python3.7/site-packages/ipykernel_launcher.py:17: SettingWithCopyWarning: \n",
      "A value is trying to be set on a copy of a slice from a DataFrame.\n",
      "Try using .loc[row_indexer,col_indexer] = value instead\n",
      "\n",
      "See the caveats in the documentation: https://pandas.pydata.org/pandas-docs/stable/user_guide/indexing.html#returning-a-view-versus-a-copy\n"
     ]
    }
   ],
   "source": [
    "# Separate out cleavage rates < 10^-5\n",
    "low_cleavage = df_train[df_train[\"cleavage_freq\"] < 10**-5]\n",
    "df_train = df_train[df_train[\"cleavage_freq\"]>= 10**-5]\n",
    "\n",
    "df_train[\"transformed_cleavage_freq\"], _ = stats.boxcox(df_train[\"cleavage_freq\"])\n",
    "\n",
    "# Scale ** Surely there's an easier way to do this?\n",
    "m1 = scipy.mean(df_train[\"transformed_cleavage_freq\"])\n",
    "s1 = stats.tstd(df_train[\"transformed_cleavage_freq\"])\n",
    "m2 = 0\n",
    "s2 = math.sqrt(2)\n",
    "df_train[\"scaled_cleavage_freq\"] = m2 + (df_train[\"transformed_cleavage_freq\"] - m1) * (s2/s1)\n",
    "\n",
    "# Manually transform outliers\n",
    "df_train[\"scaled_cleavage_freq\"] = np.where(df_train[\"scaled_cleavage_freq\"] >2*s2, 2*s2,df_train[\"scaled_cleavage_freq\"])\n",
    "df_train[\"scaled_cleavage_freq\"] = np.where(df_train[\"scaled_cleavage_freq\"] < -2*s2, -2*s2,df_train[\"scaled_cleavage_freq\"])\n",
    "low_cleavage[\"scaled_cleavage_freq\"] = -2*s2\n",
    "\n",
    "# \n",
    "df_train = df_train.drop(columns=[\"transformed_cleavage_freq\"])\n",
    "df_train = pd.concat([df_train, low_cleavage])"
   ]
  },
  {
   "cell_type": "code",
   "execution_count": 9,
   "id": "historic-prediction",
   "metadata": {},
   "outputs": [
    {
     "data": {
      "text/plain": [
       "(array([4154., 1295., 1923., 2746., 1889., 2031., 2544., 1622., 1152.,\n",
       "        1089.]),\n",
       " array([-2.82842712e+00, -2.26274170e+00, -1.69705627e+00, -1.13137085e+00,\n",
       "        -5.65685425e-01, -4.44089210e-16,  5.65685425e-01,  1.13137085e+00,\n",
       "         1.69705627e+00,  2.26274170e+00,  2.82842712e+00]),\n",
       " <BarContainer object of 10 artists>)"
      ]
     },
     "execution_count": 9,
     "metadata": {},
     "output_type": "execute_result"
    },
    {
     "data": {
      "image/png": "[encoded data removed]",
      "text/plain": [
       "<Figure size 432x288 with 1 Axes>"
      ]
     },
     "metadata": {
      "needs_background": "light"
     },
     "output_type": "display_data"
    }
   ],
   "source": [
    "plt.hist(df_train[\"scaled_cleavage_freq\"])"
   ]
  },
  {
   "cell_type": "code",
   "execution_count": 10,
   "id": "extra-poison",
   "metadata": {},
   "outputs": [],
   "source": [
    "df_train.to_pickle(\"../data/df_train.pkl\")"
   ]
  },
  {
   "cell_type": "code",
   "execution_count": 11,
   "id": "piano-antigua",
   "metadata": {},
   "outputs": [],
   "source": [
    "df_test.to_pickle(\"../data/df_test.pkl\")"
   ]
  }
 ],
 "metadata": {
  "kernelspec": {
   "display_name": "Python 3",
   "language": "python",
   "name": "python3"
  },
  "language_info": {
   "codemirror_mode": {
    "name": "ipython",
    "version": 3
   },
   "file_extension": ".py",
   "mimetype": "text/x-python",
   "name": "python",
   "nbconvert_exporter": "python",
   "pygments_lexer": "ipython3",
   "version": "3.7.5"
  }
 },
 "nbformat": 4,
 "nbformat_minor": 5
}
