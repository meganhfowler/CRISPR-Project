{
 "cells": [
  {
   "cell_type": "code",
   "execution_count": 1,
   "id": "satellite-support",
   "metadata": {},
   "outputs": [],
   "source": [
    "import pandas as pd\n",
    "import numpy as np\n",
    "import math\n",
    "from sklearn.model_selection import train_test_split\n",
    "import scipy\n",
    "from scipy import stats\n",
    "import matplotlib.pyplot as plt\n",
    "import torch\n",
    "#from sklearn.pipeline import make_pipeline\n",
    "#from sklearn.compose import make_column_transformer"
   ]
  },
  {
   "cell_type": "code",
   "execution_count": 2,
   "id": "breathing-istanbul",
   "metadata": {},
   "outputs": [],
   "source": [
    "pd.set_option('display.max_colwidth', None)"
   ]
  },
  {
   "cell_type": "code",
   "execution_count": null,
   "id": "hourly-emphasis",
   "metadata": {},
   "outputs": [],
   "source": []
  },
  {
   "cell_type": "code",
   "execution_count": null,
   "id": "banner-payday",
   "metadata": {},
   "outputs": [],
   "source": []
  },
  {
   "cell_type": "markdown",
   "id": "exciting-battlefield",
   "metadata": {},
   "source": [
    "### Data Observations"
   ]
  },
  {
   "cell_type": "markdown",
   "id": "threatened-folder",
   "metadata": {},
   "source": [
    "##### More than half the dataset is from the NucleaSeq Finkelstein experiments\n",
    "##### Finkelstein experiments do not contain cell line or chromosome due to being in vitro\n",
    "##### Finkelstein experiments do not contain target_context\n",
    "##### Sequences are variable lengths\n",
    "##### target_sequence ranges in length 20-25 nt\n",
    "##### grna_target_sequence ranges in length 22-24 nt\n",
    "##### 75 pairs which do not have a cleavage frequency\n",
    "##### Length of grna != length of target for some pairs"
   ]
  },
  {
   "cell_type": "markdown",
   "id": "postal-anderson",
   "metadata": {},
   "source": [
    "### Split Training and Testing"
   ]
  },
  {
   "cell_type": "markdown",
   "id": "bottom-convertible",
   "metadata": {},
   "source": [
    "### Preprocessing"
   ]
  },
  {
   "cell_type": "code",
   "execution_count": 3,
   "id": "brief-conservative",
   "metadata": {},
   "outputs": [],
   "source": [
    "class Preprocessing:\n",
    "    def select(df, params):\n",
    "        df = df[params].convert_dtypes()\n",
    "        return df\n",
    "    \n",
    "    def drop_na(df, params):\n",
    "        for col in params:\n",
    "            df = df[df[col].notna()]\n",
    "        return df\n",
    "    \n",
    "    def remove_dash(df, params):\n",
    "        for col in df.select_dtypes(exclude=['number']).columns:\n",
    "            df[col] = [\n",
    "                seq.replace(\"-\", \"\")\n",
    "                for seq in df[col]\n",
    "            ]\n",
    "        return df\n",
    "    \n",
    "    def pad(df, params):\n",
    "        for col in df.select_dtypes(exclude=['number']).columns:\n",
    "            df[col] = df[col].str.pad(width=50, side='right', fillchar='X')\n",
    "        return df\n",
    "    \n",
    "    def encode_nt(nt: str) -> int:\n",
    "        assert len(nt) == 1\n",
    "        encoding_dict = {\n",
    "            'X':0, \n",
    "            'A':0.25,\n",
    "            'T':0.50,\n",
    "            'G':0.75,\n",
    "            'C':1.00\n",
    "        }\n",
    "        return encoding_dict.get(nt.upper())\n",
    "    \n",
    "    def encode_seq(seq: str):\n",
    "        encoding = [\n",
    "            Preprocessing.encode_nt(nt)\n",
    "            for nt in seq\n",
    "        ]\n",
    "        return np.array(encoding)\n",
    "    \n",
    "    def encode(df, params):\n",
    "        for col in df.select_dtypes(exclude=['number']).columns:\n",
    "            df[col] = [\n",
    "                Preprocessing.encode_seq(seq)\n",
    "                for seq in df[col]\n",
    "            ]\n",
    "        return df\n",
    "    \n",
    "    def fold_seq(df):\n",
    "        df[\"stacked\"] = df[\"grna_target_sequence\"].apply(lambda x: x.tolist()) + df[\"target_sequence\"].apply(lambda x: x.tolist())\n",
    "        df[\"stacked\"] = df[\"stacked\"].apply(lambda x: np.array(x))\n",
    "        return df[\"stacked\"]\n",
    "\n",
    "    def tensorfy(stacked):\n",
    "        temp = []\n",
    "        for i in stacked:\n",
    "            temp.append(i)\n",
    "        return torch.from_numpy(np.array(temp).astype(np.float32))\n",
    "    \n",
    "    def preprocess(df, params):\n",
    "        processed_df = Preprocessing.select(df, params)\n",
    "        processed_df = Preprocessing.drop_na(processed_df, params)\n",
    "        processed_df = Preprocessing.remove_dash(processed_df, params)\n",
    "        processed_df = Preprocessing.pad(processed_df, params)\n",
    "        processed_df = Preprocessing.encode(processed_df, params)\n",
    "        stacked = Preprocessing.fold_seq(processed_df)\n",
    "        X = Preprocessing.tensorfy(stacked)\n",
    "        return X"
   ]
  },
  {
   "cell_type": "markdown",
   "id": "annoying-weekly",
   "metadata": {},
   "source": [
    "##### Version 1"
   ]
  },
  {
   "cell_type": "code",
   "execution_count": 4,
   "id": "decreased-celebrity",
   "metadata": {},
   "outputs": [],
   "source": [
    "df_train = pd.read_csv(\"../data/df_train.csv\")"
   ]
  },
  {
   "cell_type": "code",
   "execution_count": 5,
   "id": "whole-volunteer",
   "metadata": {},
   "outputs": [],
   "source": [
    "params = [\"grna_target_sequence\", \"target_sequence\"]"
   ]
  },
  {
   "cell_type": "code",
   "execution_count": 9,
   "id": "horizontal-transsexual",
   "metadata": {},
   "outputs": [],
   "source": [
    "def get_X(df, params):\n",
    "    df_X = df.drop(columns = [\"cleavage_freq\"])\n",
    "    X = Preprocessing.preprocess(df_X, params)\n",
    "    return X"
   ]
  },
  {
   "cell_type": "code",
   "execution_count": 11,
   "id": "starting-venice",
   "metadata": {},
   "outputs": [
    {
     "data": {
      "text/plain": [
       "(20505, 29)"
      ]
     },
     "execution_count": 11,
     "metadata": {},
     "output_type": "execute_result"
    }
   ],
   "source": [
    "df_X = df_train.drop(columns = [\"cleavage_freq\"])\n",
    "df_X.shape"
   ]
  },
  {
   "cell_type": "code",
   "execution_count": 8,
   "id": "historical-hormone",
   "metadata": {},
   "outputs": [
    {
     "data": {
      "text/plain": [
       "tensor([[0.7500, 0.2500, 1.0000,  ..., 0.0000, 0.0000, 0.0000],\n",
       "        [0.7500, 0.7500, 0.7500,  ..., 0.0000, 0.0000, 0.0000],\n",
       "        [0.7500, 0.5000, 0.7500,  ..., 0.0000, 0.0000, 0.0000],\n",
       "        ...,\n",
       "        [0.7500, 0.5000, 0.7500,  ..., 0.0000, 0.0000, 0.0000],\n",
       "        [0.7500, 0.5000, 0.7500,  ..., 0.0000, 0.0000, 0.0000],\n",
       "        [0.7500, 0.5000, 0.7500,  ..., 0.0000, 0.0000, 0.0000]])"
      ]
     },
     "execution_count": 8,
     "metadata": {},
     "output_type": "execute_result"
    }
   ],
   "source": [
    "X = Preprocessing.preprocess(df_X, params)\n",
    "X"
   ]
  },
  {
   "cell_type": "code",
   "execution_count": 10,
   "id": "approved-matter",
   "metadata": {},
   "outputs": [
    {
     "name": "stdout",
     "output_type": "stream",
     "text": [
      "tensor([[0.7500, 0.2500, 1.0000,  ..., 0.0000, 0.0000, 0.0000],\n",
      "        [0.7500, 0.7500, 0.7500,  ..., 0.0000, 0.0000, 0.0000],\n",
      "        [0.7500, 0.5000, 0.7500,  ..., 0.0000, 0.0000, 0.0000],\n",
      "        ...,\n",
      "        [0.7500, 0.5000, 0.7500,  ..., 0.0000, 0.0000, 0.0000],\n",
      "        [0.7500, 0.5000, 0.7500,  ..., 0.0000, 0.0000, 0.0000],\n",
      "        [0.7500, 0.5000, 0.7500,  ..., 0.0000, 0.0000, 0.0000]])\n"
     ]
    }
   ],
   "source": [
    "X = get_X(df_train, params)\n",
    "print(X)"
   ]
  },
  {
   "cell_type": "code",
   "execution_count": null,
   "id": "working-american",
   "metadata": {},
   "outputs": [],
   "source": [
    "fork"
   ]
  },
  {
   "cell_type": "markdown",
   "id": "capital-february",
   "metadata": {},
   "source": [
    "### Data Transformation"
   ]
  },
  {
   "cell_type": "markdown",
   "id": "solved-leone",
   "metadata": {},
   "source": [
    "##### According to reference, should transform cleavage rates to approximate a Gaussian with zero mean and variance 𝜎^2=2 using the nonlinear Box–Cox transformation.\n",
    "\n",
    "##### Values above and below ±2𝜎 should be capped in order to achieve a fixed value range\n",
    "##### measured cleavage rates below the lowest reported measurement accuracy (10−5 in our case) should be manually transformed to −2𝜎"
   ]
  },
  {
   "cell_type": "code",
   "execution_count": null,
   "id": "vietnamese-registrar",
   "metadata": {},
   "outputs": [],
   "source": [
    "# Separate out cleavage rates < 10^-5\n",
    "low_cleavage = df_train[df_train[\"cleavage_freq\"] < 10**-5]\n",
    "df_train = df_train[df_train[\"cleavage_freq\"]>= 10**-5]\n",
    "\n",
    "df_train[\"transformed_cleavage_freq\"], _ = stats.boxcox(df_train[\"cleavage_freq\"])\n",
    "\n",
    "# Scale ** Surely there's an easier way to do this?\n",
    "m1 = scipy.mean(df_train[\"transformed_cleavage_freq\"])\n",
    "s1 = stats.tstd(df_train[\"transformed_cleavage_freq\"])\n",
    "m2 = 0\n",
    "s2 = math.sqrt(2)\n",
    "df_train[\"scaled_cleavage_freq\"] = m2 + (df_train[\"transformed_cleavage_freq\"] - m1) * (s2/s1)\n",
    "\n",
    "# Manually transform outliers\n",
    "df_train[\"scaled_cleavage_freq\"] = np.where(df_train[\"scaled_cleavage_freq\"] >2*s2, 2*s2,df_train[\"scaled_cleavage_freq\"])\n",
    "df_train[\"scaled_cleavage_freq\"] = np.where(df_train[\"scaled_cleavage_freq\"] < -2*s2, -2*s2,df_train[\"scaled_cleavage_freq\"])\n",
    "low_cleavage[\"scaled_cleavage_freq\"] = -2*s2\n",
    "\n",
    "# \n",
    "df_train = df_train.drop(columns=[\"transformed_cleavage_freq\"])\n",
    "df_train = pd.concat([df_train, low_cleavage])"
   ]
  },
  {
   "cell_type": "code",
   "execution_count": null,
   "id": "historic-prediction",
   "metadata": {},
   "outputs": [],
   "source": [
    "plt.hist(df_train[\"scaled_cleavage_freq\"])"
   ]
  },
  {
   "cell_type": "code",
   "execution_count": null,
   "id": "extra-poison",
   "metadata": {},
   "outputs": [],
   "source": [
    "#df_train.to_pickle(\"../data/df_train.pkl\")"
   ]
  },
  {
   "cell_type": "code",
   "execution_count": null,
   "id": "piano-antigua",
   "metadata": {},
   "outputs": [],
   "source": [
    "#df_test.to_pickle(\"../data/df_test.pkl\")"
   ]
  }
 ],
 "metadata": {
  "kernelspec": {
   "display_name": "Python 3",
   "language": "python",
   "name": "python3"
  },
  "language_info": {
   "codemirror_mode": {
    "name": "ipython",
    "version": 3
   },
   "file_extension": ".py",
   "mimetype": "text/x-python",
   "name": "python",
   "nbconvert_exporter": "python",
   "pygments_lexer": "ipython3",
   "version": "3.7.5"
  }
 },
 "nbformat": 4,
 "nbformat_minor": 5
}
