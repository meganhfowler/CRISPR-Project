{
 "cells": [
  {
   "cell_type": "code",
   "execution_count": 2,
   "id": "satellite-support",
   "metadata": {},
   "outputs": [],
   "source": [
    "import pandas as pd\n",
    "import numpy as np\n",
    "import math\n",
    "from sklearn.model_selection import train_test_split\n",
    "import scipy\n",
    "from scipy import stats\n",
    "import matplotlib.pyplot as plt\n",
    "import torch\n",
    "#from sklearn.pipeline import make_pipeline\n",
    "#from sklearn.compose import make_column_transformer"
   ]
  },
  {
   "cell_type": "code",
   "execution_count": 3,
   "id": "breathing-istanbul",
   "metadata": {},
   "outputs": [],
   "source": [
    "pd.set_option('display.max_colwidth', None)"
   ]
  },
  {
   "cell_type": "code",
   "execution_count": null,
   "id": "hourly-emphasis",
   "metadata": {},
   "outputs": [],
   "source": []
  },
  {
   "cell_type": "code",
   "execution_count": null,
   "id": "banner-payday",
   "metadata": {},
   "outputs": [],
   "source": []
  },
  {
   "cell_type": "markdown",
   "id": "exciting-battlefield",
   "metadata": {},
   "source": [
    "### Data Observations"
   ]
  },
  {
   "cell_type": "markdown",
   "id": "threatened-folder",
   "metadata": {},
   "source": [
    "##### More than half the dataset is from the NucleaSeq Finkelstein experiments\n",
    "##### Finkelstein experiments do not contain cell line or chromosome due to being in vitro\n",
    "##### Finkelstein experiments do not contain target_context\n",
    "##### Sequences are variable lengths\n",
    "##### target_sequence ranges in length 20-25 nt\n",
    "##### grna_target_sequence ranges in length 22-24 nt\n",
    "##### 75 pairs which do not have a cleavage frequency\n",
    "##### Length of grna != length of target for some pairs"
   ]
  },
  {
   "cell_type": "markdown",
   "id": "postal-anderson",
   "metadata": {},
   "source": [
    "### Split Training and Testing"
   ]
  },
  {
   "cell_type": "markdown",
   "id": "bottom-convertible",
   "metadata": {},
   "source": [
    "### Preprocessing"
   ]
  },
  {
   "cell_type": "code",
   "execution_count": 4,
   "id": "brief-conservative",
   "metadata": {},
   "outputs": [],
   "source": [
    "class Preprocessing:\n",
    "    def select(df, params):\n",
    "        df = df[params].convert_dtypes()\n",
    "        return df\n",
    "    \n",
    "    def drop_na(df, params):\n",
    "        for col in params:\n",
    "            df = df[df[col].notna()]\n",
    "        return df\n",
    "    \n",
    "    def remove_dash(df, params):\n",
    "        for col in df.select_dtypes(exclude=['number']).columns:\n",
    "            df[col] = [\n",
    "                seq.replace(\"-\", \"\")\n",
    "                for seq in df[col]\n",
    "            ]\n",
    "        return df\n",
    "    \n",
    "    def pad(df, params):\n",
    "        for col in df.select_dtypes(exclude=['number']).columns:\n",
    "            df[col] = df[col].str.pad(width=50, side='right', fillchar='X')\n",
    "        return df\n",
    "    \n",
    "    def encode_nt(nt: str) -> int:\n",
    "        assert len(nt) == 1\n",
    "        encoding_dict = {\n",
    "            'X':0, \n",
    "            'A':0.25,\n",
    "            'T':0.50,\n",
    "            'G':0.75,\n",
    "            'C':1.00\n",
    "        }\n",
    "        return encoding_dict.get(nt.upper())\n",
    "    \n",
    "    def encode_seq(seq: str):\n",
    "        encoding = [\n",
    "            Preprocessing.encode_nt(nt)\n",
    "            for nt in seq\n",
    "        ]\n",
    "        return np.array(encoding)\n",
    "    \n",
    "    def encode(df, params):\n",
    "        for col in df.select_dtypes(exclude=['number']).columns:\n",
    "            df[col] = [\n",
    "                Preprocessing.encode_seq(seq)\n",
    "                for seq in df[col]\n",
    "            ]\n",
    "        return df\n",
    "    \n",
    "    def fold_seq(df):\n",
    "        df[\"stacked\"] = df[\"grna_target_sequence\"].apply(lambda x: x.tolist()) + df[\"target_sequence\"].apply(lambda x: x.tolist())\n",
    "        df[\"stacked\"] = df[\"stacked\"].apply(lambda x: np.array(x))\n",
    "        return df[\"stacked\"]\n",
    "\n",
    "    def tensorfy(stacked):\n",
    "        temp = []\n",
    "        for i in stacked:\n",
    "            temp.append(i)\n",
    "        return torch.from_numpy(np.array(temp).astype(np.float32))\n",
    "    \n",
    "    def preprocess(df, params):\n",
    "        processed_df = Preprocessing.select(df, params)\n",
    "        processed_df = Preprocessing.drop_na(processed_df, params)\n",
    "        processed_df = Preprocessing.remove_dash(processed_df, params)\n",
    "        processed_df = Preprocessing.pad(processed_df, params)\n",
    "        processed_df = Preprocessing.encode(processed_df, params)\n",
    "        stacked = Preprocessing.fold_seq(processed_df)\n",
    "        X = Preprocessing.tensorfy(stacked)\n",
    "        return X"
   ]
  },
  {
   "cell_type": "markdown",
   "id": "annoying-weekly",
   "metadata": {},
   "source": [
    "##### Version 1"
   ]
  },
  {
   "cell_type": "code",
   "execution_count": 7,
   "id": "decreased-celebrity",
   "metadata": {},
   "outputs": [],
   "source": [
    "df_train = pd.read_csv(\"../data/train.csv\")"
   ]
  },
  {
   "cell_type": "code",
   "execution_count": 6,
   "id": "whole-volunteer",
   "metadata": {},
   "outputs": [],
   "source": [
    "params = [\"grna_target_sequence\", \"target_sequence\"]"
   ]
  },
  {
   "cell_type": "code",
   "execution_count": 9,
   "id": "horizontal-transsexual",
   "metadata": {},
   "outputs": [],
   "source": [
    "def get_X(df, params):\n",
    "    df_X = df.drop(columns = [\"cleavage_freq\"])\n",
    "    X = Preprocessing.preprocess(df_X, params)\n",
    "    return X"
   ]
  },
  {
   "cell_type": "code",
   "execution_count": 11,
   "id": "starting-venice",
   "metadata": {},
   "outputs": [
    {
     "data": {
      "text/plain": [
       "(20505, 29)"
      ]
     },
     "execution_count": 11,
     "metadata": {},
     "output_type": "execute_result"
    }
   ],
   "source": [
    "df_X = df_train.drop(columns = [\"cleavage_freq\"])\n",
    "df_X.shape"
   ]
  },
  {
   "cell_type": "code",
   "execution_count": 8,
   "id": "historical-hormone",
   "metadata": {},
   "outputs": [
    {
     "data": {
      "text/plain": [
       "tensor([[0.7500, 0.2500, 1.0000,  ..., 0.0000, 0.0000, 0.0000],\n",
       "        [0.7500, 0.7500, 0.7500,  ..., 0.0000, 0.0000, 0.0000],\n",
       "        [0.7500, 0.5000, 0.7500,  ..., 0.0000, 0.0000, 0.0000],\n",
       "        ...,\n",
       "        [0.7500, 0.5000, 0.7500,  ..., 0.0000, 0.0000, 0.0000],\n",
       "        [0.7500, 0.5000, 0.7500,  ..., 0.0000, 0.0000, 0.0000],\n",
       "        [0.7500, 0.5000, 0.7500,  ..., 0.0000, 0.0000, 0.0000]])"
      ]
     },
     "execution_count": 8,
     "metadata": {},
     "output_type": "execute_result"
    }
   ],
   "source": [
    "X = Preprocessing.preprocess(df_X, params)\n",
    "X"
   ]
  },
  {
   "cell_type": "code",
   "execution_count": 10,
   "id": "approved-matter",
   "metadata": {},
   "outputs": [
    {
     "name": "stdout",
     "output_type": "stream",
     "text": [
      "tensor([[0.7500, 0.2500, 1.0000,  ..., 0.0000, 0.0000, 0.0000],\n",
      "        [0.7500, 0.7500, 0.7500,  ..., 0.0000, 0.0000, 0.0000],\n",
      "        [0.7500, 0.5000, 0.7500,  ..., 0.0000, 0.0000, 0.0000],\n",
      "        ...,\n",
      "        [0.7500, 0.5000, 0.7500,  ..., 0.0000, 0.0000, 0.0000],\n",
      "        [0.7500, 0.5000, 0.7500,  ..., 0.0000, 0.0000, 0.0000],\n",
      "        [0.7500, 0.5000, 0.7500,  ..., 0.0000, 0.0000, 0.0000]])\n"
     ]
    }
   ],
   "source": [
    "X = get_X(df_train, params)\n",
    "print(X)"
   ]
  },
  {
   "cell_type": "code",
   "execution_count": null,
   "id": "working-american",
   "metadata": {},
   "outputs": [],
   "source": [
    "fork"
   ]
  },
  {
   "cell_type": "markdown",
   "id": "capital-february",
   "metadata": {},
   "source": [
    "### Data Transformation"
   ]
  },
  {
   "cell_type": "markdown",
   "id": "solved-leone",
   "metadata": {},
   "source": [
    "##### According to reference, should transform cleavage rates to approximate a Gaussian with zero mean and variance 𝜎^2=2 using the nonlinear Box–Cox transformation.\n",
    "\n",
    "##### Values above and below ±2𝜎 should be capped in order to achieve a fixed value range\n",
    "##### measured cleavage rates below the lowest reported measurement accuracy (10−5 in our case) should be manually transformed to −2𝜎"
   ]
  },
  {
   "cell_type": "code",
   "execution_count": null,
   "id": "vietnamese-registrar",
   "metadata": {},
   "outputs": [],
   "source": [
    "# Separate out cleavage rates < 10^-5\n",
    "low_cleavage = df_train[df_train[\"cleavage_freq\"] < 10**-5]\n",
    "df_train = df_train[df_train[\"cleavage_freq\"]>= 10**-5]\n",
    "\n",
    "df_train[\"transformed_cleavage_freq\"], _ = stats.boxcox(df_train[\"cleavage_freq\"])\n",
    "\n",
    "# Scale ** Surely there's an easier way to do this?\n",
    "m1 = scipy.mean(df_train[\"transformed_cleavage_freq\"])\n",
    "s1 = stats.tstd(df_train[\"transformed_cleavage_freq\"])\n",
    "m2 = 0\n",
    "s2 = math.sqrt(2)\n",
    "df_train[\"scaled_cleavage_freq\"] = m2 + (df_train[\"transformed_cleavage_freq\"] - m1) * (s2/s1)\n",
    "\n",
    "# Manually transform outliers\n",
    "df_train[\"scaled_cleavage_freq\"] = np.where(df_train[\"scaled_cleavage_freq\"] >2*s2, 2*s2,df_train[\"scaled_cleavage_freq\"])\n",
    "df_train[\"scaled_cleavage_freq\"] = np.where(df_train[\"scaled_cleavage_freq\"] < -2*s2, -2*s2,df_train[\"scaled_cleavage_freq\"])\n",
    "low_cleavage[\"scaled_cleavage_freq\"] = -2*s2\n",
    "\n",
    "# \n",
    "df_train = df_train.drop(columns=[\"transformed_cleavage_freq\"])\n",
    "df_train = pd.concat([df_train, low_cleavage])"
   ]
  },
  {
   "cell_type": "code",
   "execution_count": null,
   "id": "historic-prediction",
   "metadata": {},
   "outputs": [],
   "source": [
    "plt.hist(df_train[\"scaled_cleavage_freq\"])"
   ]
  },
  {
   "cell_type": "code",
   "execution_count": null,
   "id": "extra-poison",
   "metadata": {},
   "outputs": [],
   "source": [
    "#df_train.to_pickle(\"../data/df_train.pkl\")"
   ]
  },
  {
   "cell_type": "code",
   "execution_count": null,
   "id": "piano-antigua",
   "metadata": {},
   "outputs": [],
   "source": [
    "#df_test.to_pickle(\"../data/df_test.pkl\")"
   ]
  },
  {
   "cell_type": "code",
   "execution_count": null,
   "id": "noble-integration",
   "metadata": {},
   "outputs": [],
   "source": []
  },
  {
   "cell_type": "code",
   "execution_count": 9,
   "id": "floating-craft",
   "metadata": {},
   "outputs": [
    {
     "ename": "KeyError",
     "evalue": "('target_sequence', 'grna_target_sequence', 'target_strand', 'grna_strand', 'energy_1', 'energy_2', 'energy_3', 'energy_4', 'energy_5', 'study_name', 'whole_genome', 'delivery_mode')",
     "output_type": "error",
     "traceback": [
      "\u001b[0;31m---------------------------------------------------------------------------\u001b[0m",
      "\u001b[0;31mKeyError\u001b[0m                                  Traceback (most recent call last)",
      "\u001b[0;32m~/.local/lib/python3.7/site-packages/pandas/core/indexes/base.py\u001b[0m in \u001b[0;36mget_loc\u001b[0;34m(self, key, method, tolerance)\u001b[0m\n\u001b[1;32m   2645\u001b[0m             \u001b[0;32mtry\u001b[0m\u001b[0;34m:\u001b[0m\u001b[0;34m\u001b[0m\u001b[0;34m\u001b[0m\u001b[0m\n\u001b[0;32m-> 2646\u001b[0;31m                 \u001b[0;32mreturn\u001b[0m \u001b[0mself\u001b[0m\u001b[0;34m.\u001b[0m\u001b[0m_engine\u001b[0m\u001b[0;34m.\u001b[0m\u001b[0mget_loc\u001b[0m\u001b[0;34m(\u001b[0m\u001b[0mkey\u001b[0m\u001b[0;34m)\u001b[0m\u001b[0;34m\u001b[0m\u001b[0;34m\u001b[0m\u001b[0m\n\u001b[0m\u001b[1;32m   2647\u001b[0m             \u001b[0;32mexcept\u001b[0m \u001b[0mKeyError\u001b[0m\u001b[0;34m:\u001b[0m\u001b[0;34m\u001b[0m\u001b[0;34m\u001b[0m\u001b[0m\n",
      "\u001b[0;32mpandas/_libs/index.pyx\u001b[0m in \u001b[0;36mpandas._libs.index.IndexEngine.get_loc\u001b[0;34m()\u001b[0m\n",
      "\u001b[0;32mpandas/_libs/index.pyx\u001b[0m in \u001b[0;36mpandas._libs.index.IndexEngine.get_loc\u001b[0;34m()\u001b[0m\n",
      "\u001b[0;32mpandas/_libs/hashtable_class_helper.pxi\u001b[0m in \u001b[0;36mpandas._libs.hashtable.PyObjectHashTable.get_item\u001b[0;34m()\u001b[0m\n",
      "\u001b[0;32mpandas/_libs/hashtable_class_helper.pxi\u001b[0m in \u001b[0;36mpandas._libs.hashtable.PyObjectHashTable.get_item\u001b[0;34m()\u001b[0m\n",
      "\u001b[0;31mKeyError\u001b[0m: ('target_sequence', 'grna_target_sequence', 'target_strand', 'grna_strand', 'energy_1', 'energy_2', 'energy_3', 'energy_4', 'energy_5', 'study_name', 'whole_genome', 'delivery_mode')",
      "\nDuring handling of the above exception, another exception occurred:\n",
      "\u001b[0;31mKeyError\u001b[0m                                  Traceback (most recent call last)",
      "\u001b[0;32m<ipython-input-9-e52b04eeb434>\u001b[0m in \u001b[0;36m<module>\u001b[0;34m\u001b[0m\n\u001b[0;32m----> 1\u001b[0;31m \u001b[0mdf_train\u001b[0m\u001b[0;34m[\u001b[0m\u001b[0;34m\"target_sequence\"\u001b[0m\u001b[0;34m,\u001b[0m \u001b[0;34m\"grna_target_sequence\"\u001b[0m\u001b[0;34m,\u001b[0m \u001b[0;34m\"target_strand\"\u001b[0m\u001b[0;34m,\u001b[0m \u001b[0;34m\"grna_strand\"\u001b[0m\u001b[0;34m,\u001b[0m \u001b[0;34m\"energy_1\"\u001b[0m\u001b[0;34m,\u001b[0m \u001b[0;34m\"energy_2\"\u001b[0m\u001b[0;34m,\u001b[0m \u001b[0;34m\"energy_3\"\u001b[0m\u001b[0;34m,\u001b[0m \u001b[0;34m\"energy_4\"\u001b[0m\u001b[0;34m,\u001b[0m \u001b[0;34m\"energy_5\"\u001b[0m\u001b[0;34m,\u001b[0m \u001b[0;34m\"study_name\"\u001b[0m\u001b[0;34m,\u001b[0m \u001b[0;34m\"whole_genome\"\u001b[0m\u001b[0;34m,\u001b[0m \u001b[0;34m\"delivery_mode\"\u001b[0m\u001b[0;34m]\u001b[0m\u001b[0;34m\u001b[0m\u001b[0;34m\u001b[0m\u001b[0m\n\u001b[0m",
      "\u001b[0;32m~/.local/lib/python3.7/site-packages/pandas/core/frame.py\u001b[0m in \u001b[0;36m__getitem__\u001b[0;34m(self, key)\u001b[0m\n\u001b[1;32m   2798\u001b[0m             \u001b[0;32mif\u001b[0m \u001b[0mself\u001b[0m\u001b[0;34m.\u001b[0m\u001b[0mcolumns\u001b[0m\u001b[0;34m.\u001b[0m\u001b[0mnlevels\u001b[0m \u001b[0;34m>\u001b[0m \u001b[0;36m1\u001b[0m\u001b[0;34m:\u001b[0m\u001b[0;34m\u001b[0m\u001b[0;34m\u001b[0m\u001b[0m\n\u001b[1;32m   2799\u001b[0m                 \u001b[0;32mreturn\u001b[0m \u001b[0mself\u001b[0m\u001b[0;34m.\u001b[0m\u001b[0m_getitem_multilevel\u001b[0m\u001b[0;34m(\u001b[0m\u001b[0mkey\u001b[0m\u001b[0;34m)\u001b[0m\u001b[0;34m\u001b[0m\u001b[0;34m\u001b[0m\u001b[0m\n\u001b[0;32m-> 2800\u001b[0;31m             \u001b[0mindexer\u001b[0m \u001b[0;34m=\u001b[0m \u001b[0mself\u001b[0m\u001b[0;34m.\u001b[0m\u001b[0mcolumns\u001b[0m\u001b[0;34m.\u001b[0m\u001b[0mget_loc\u001b[0m\u001b[0;34m(\u001b[0m\u001b[0mkey\u001b[0m\u001b[0;34m)\u001b[0m\u001b[0;34m\u001b[0m\u001b[0;34m\u001b[0m\u001b[0m\n\u001b[0m\u001b[1;32m   2801\u001b[0m             \u001b[0;32mif\u001b[0m \u001b[0mis_integer\u001b[0m\u001b[0;34m(\u001b[0m\u001b[0mindexer\u001b[0m\u001b[0;34m)\u001b[0m\u001b[0;34m:\u001b[0m\u001b[0;34m\u001b[0m\u001b[0;34m\u001b[0m\u001b[0m\n\u001b[1;32m   2802\u001b[0m                 \u001b[0mindexer\u001b[0m \u001b[0;34m=\u001b[0m \u001b[0;34m[\u001b[0m\u001b[0mindexer\u001b[0m\u001b[0;34m]\u001b[0m\u001b[0;34m\u001b[0m\u001b[0;34m\u001b[0m\u001b[0m\n",
      "\u001b[0;32m~/.local/lib/python3.7/site-packages/pandas/core/indexes/base.py\u001b[0m in \u001b[0;36mget_loc\u001b[0;34m(self, key, method, tolerance)\u001b[0m\n\u001b[1;32m   2646\u001b[0m                 \u001b[0;32mreturn\u001b[0m \u001b[0mself\u001b[0m\u001b[0;34m.\u001b[0m\u001b[0m_engine\u001b[0m\u001b[0;34m.\u001b[0m\u001b[0mget_loc\u001b[0m\u001b[0;34m(\u001b[0m\u001b[0mkey\u001b[0m\u001b[0;34m)\u001b[0m\u001b[0;34m\u001b[0m\u001b[0;34m\u001b[0m\u001b[0m\n\u001b[1;32m   2647\u001b[0m             \u001b[0;32mexcept\u001b[0m \u001b[0mKeyError\u001b[0m\u001b[0;34m:\u001b[0m\u001b[0;34m\u001b[0m\u001b[0;34m\u001b[0m\u001b[0m\n\u001b[0;32m-> 2648\u001b[0;31m                 \u001b[0;32mreturn\u001b[0m \u001b[0mself\u001b[0m\u001b[0;34m.\u001b[0m\u001b[0m_engine\u001b[0m\u001b[0;34m.\u001b[0m\u001b[0mget_loc\u001b[0m\u001b[0;34m(\u001b[0m\u001b[0mself\u001b[0m\u001b[0;34m.\u001b[0m\u001b[0m_maybe_cast_indexer\u001b[0m\u001b[0;34m(\u001b[0m\u001b[0mkey\u001b[0m\u001b[0;34m)\u001b[0m\u001b[0;34m)\u001b[0m\u001b[0;34m\u001b[0m\u001b[0;34m\u001b[0m\u001b[0m\n\u001b[0m\u001b[1;32m   2649\u001b[0m         \u001b[0mindexer\u001b[0m \u001b[0;34m=\u001b[0m \u001b[0mself\u001b[0m\u001b[0;34m.\u001b[0m\u001b[0mget_indexer\u001b[0m\u001b[0;34m(\u001b[0m\u001b[0;34m[\u001b[0m\u001b[0mkey\u001b[0m\u001b[0;34m]\u001b[0m\u001b[0;34m,\u001b[0m \u001b[0mmethod\u001b[0m\u001b[0;34m=\u001b[0m\u001b[0mmethod\u001b[0m\u001b[0;34m,\u001b[0m \u001b[0mtolerance\u001b[0m\u001b[0;34m=\u001b[0m\u001b[0mtolerance\u001b[0m\u001b[0;34m)\u001b[0m\u001b[0;34m\u001b[0m\u001b[0;34m\u001b[0m\u001b[0m\n\u001b[1;32m   2650\u001b[0m         \u001b[0;32mif\u001b[0m \u001b[0mindexer\u001b[0m\u001b[0;34m.\u001b[0m\u001b[0mndim\u001b[0m \u001b[0;34m>\u001b[0m \u001b[0;36m1\u001b[0m \u001b[0;32mor\u001b[0m \u001b[0mindexer\u001b[0m\u001b[0;34m.\u001b[0m\u001b[0msize\u001b[0m \u001b[0;34m>\u001b[0m \u001b[0;36m1\u001b[0m\u001b[0;34m:\u001b[0m\u001b[0;34m\u001b[0m\u001b[0;34m\u001b[0m\u001b[0m\n",
      "\u001b[0;32mpandas/_libs/index.pyx\u001b[0m in \u001b[0;36mpandas._libs.index.IndexEngine.get_loc\u001b[0;34m()\u001b[0m\n",
      "\u001b[0;32mpandas/_libs/index.pyx\u001b[0m in \u001b[0;36mpandas._libs.index.IndexEngine.get_loc\u001b[0;34m()\u001b[0m\n",
      "\u001b[0;32mpandas/_libs/hashtable_class_helper.pxi\u001b[0m in \u001b[0;36mpandas._libs.hashtable.PyObjectHashTable.get_item\u001b[0;34m()\u001b[0m\n",
      "\u001b[0;32mpandas/_libs/hashtable_class_helper.pxi\u001b[0m in \u001b[0;36mpandas._libs.hashtable.PyObjectHashTable.get_item\u001b[0;34m()\u001b[0m\n",
      "\u001b[0;31mKeyError\u001b[0m: ('target_sequence', 'grna_target_sequence', 'target_strand', 'grna_strand', 'energy_1', 'energy_2', 'energy_3', 'energy_4', 'energy_5', 'study_name', 'whole_genome', 'delivery_mode')"
     ]
    }
   ],
   "source": [
    "df_train = df_train[\"target_sequence\", \"grna_target_sequence\", \"target_strand\", \"grna_strand\", \"energy_1\", \"energy_2\", \"energy_3\", \"energy_4\", \"energy_5\", \"study_name\", \"whole_genome\", \"delivery_mode\"]"
   ]
  },
  {
   "cell_type": "code",
   "execution_count": 10,
   "id": "parallel-sperm",
   "metadata": {},
   "outputs": [],
   "source": [
    "def select(df, params):\n",
    "    df = df[params]\n",
    "    df[params] = df[params].convert_dtypes()\n",
    "    return df"
   ]
  },
  {
   "cell_type": "code",
   "execution_count": 13,
   "id": "specified-corruption",
   "metadata": {},
   "outputs": [],
   "source": [
    "params = [\"target_sequence\", \"grna_target_sequence\", \"target_strand\", \"grna_target_strand\", \"energy_1\", \"energy_2\", \"energy_3\", \"energy_4\", \"energy_5\", \"study_name\", \"whole_genome\", \"delivery_mode\"]"
   ]
  },
  {
   "cell_type": "code",
   "execution_count": 16,
   "id": "prostate-persian",
   "metadata": {},
   "outputs": [
    {
     "name": "stderr",
     "output_type": "stream",
     "text": [
      "/home/megan/.local/lib/python3.7/site-packages/pandas/core/frame.py:2963: SettingWithCopyWarning: \n",
      "A value is trying to be set on a copy of a slice from a DataFrame.\n",
      "Try using .loc[row_indexer,col_indexer] = value instead\n",
      "\n",
      "See the caveats in the documentation: https://pandas.pydata.org/pandas-docs/stable/user_guide/indexing.html#returning-a-view-versus-a-copy\n",
      "  self[k1] = value[k2]\n"
     ]
    },
    {
     "data": {
      "text/html": [
       "<div>\n",
       "<style scoped>\n",
       "    .dataframe tbody tr th:only-of-type {\n",
       "        vertical-align: middle;\n",
       "    }\n",
       "\n",
       "    .dataframe tbody tr th {\n",
       "        vertical-align: top;\n",
       "    }\n",
       "\n",
       "    .dataframe thead th {\n",
       "        text-align: right;\n",
       "    }\n",
       "</style>\n",
       "<table border=\"1\" class=\"dataframe\">\n",
       "  <thead>\n",
       "    <tr style=\"text-align: right;\">\n",
       "      <th></th>\n",
       "      <th>target_sequence</th>\n",
       "      <th>grna_target_sequence</th>\n",
       "      <th>target_strand</th>\n",
       "      <th>grna_target_strand</th>\n",
       "      <th>energy_1</th>\n",
       "      <th>energy_2</th>\n",
       "      <th>energy_3</th>\n",
       "      <th>energy_4</th>\n",
       "      <th>energy_5</th>\n",
       "      <th>study_name</th>\n",
       "      <th>whole_genome</th>\n",
       "      <th>delivery_mode</th>\n",
       "    </tr>\n",
       "  </thead>\n",
       "  <tbody>\n",
       "    <tr>\n",
       "      <th>0</th>\n",
       "      <td>ACCCCCCCCAACCCCGCCTCGGC</td>\n",
       "      <td>GACCCCCTCCACCCCGCCTCCGG</td>\n",
       "      <td>+</td>\n",
       "      <td>-</td>\n",
       "      <td>26.355</td>\n",
       "      <td>0.000000</td>\n",
       "      <td>8.809075</td>\n",
       "      <td>0.0000</td>\n",
       "      <td>26.355</td>\n",
       "      <td>Tsai_circle</td>\n",
       "      <td>1</td>\n",
       "      <td>0</td>\n",
       "    </tr>\n",
       "    <tr>\n",
       "      <th>1</th>\n",
       "      <td>AAGAGGAGGGAGATTGTTCCTGG</td>\n",
       "      <td>GGGTGGGGGGAGTTTGCTCCTGG</td>\n",
       "      <td>-</td>\n",
       "      <td>-</td>\n",
       "      <td>12.735</td>\n",
       "      <td>-4.939260</td>\n",
       "      <td>-4.939260</td>\n",
       "      <td>16.3350</td>\n",
       "      <td>16.335</td>\n",
       "      <td>Tsai_circle</td>\n",
       "      <td>1</td>\n",
       "      <td>0</td>\n",
       "    </tr>\n",
       "    <tr>\n",
       "      <th>2</th>\n",
       "      <td>GTGATAAGTGGAATTGCCATGTGAG</td>\n",
       "      <td>GTGATAAGTGGAATGCCATGTGG</td>\n",
       "      <td>+</td>\n",
       "      <td>+</td>\n",
       "      <td>-12.695</td>\n",
       "      <td>-42.815277</td>\n",
       "      <td>-47.572529</td>\n",
       "      <td>-9.1755</td>\n",
       "      <td>-10.195</td>\n",
       "      <td>Finkelstein</td>\n",
       "      <td>0</td>\n",
       "      <td>2</td>\n",
       "    </tr>\n",
       "    <tr>\n",
       "      <th>3</th>\n",
       "      <td>AGCACTGTGGATGGAGTTGGAGG</td>\n",
       "      <td>GGCACTGCGGCTGGAGGTGGGGG</td>\n",
       "      <td>+</td>\n",
       "      <td>+</td>\n",
       "      <td>17.605</td>\n",
       "      <td>5.982632</td>\n",
       "      <td>5.982632</td>\n",
       "      <td>21.1050</td>\n",
       "      <td>21.105</td>\n",
       "      <td>Tsai_circle</td>\n",
       "      <td>1</td>\n",
       "      <td>0</td>\n",
       "    </tr>\n",
       "    <tr>\n",
       "      <th>4</th>\n",
       "      <td>GTGATAAGATGGAATGCCATGTGGG</td>\n",
       "      <td>GTGATAAGTGGAATGCCATGTGG</td>\n",
       "      <td>+</td>\n",
       "      <td>+</td>\n",
       "      <td>-13.315</td>\n",
       "      <td>-48.090126</td>\n",
       "      <td>-48.090126</td>\n",
       "      <td>-10.8150</td>\n",
       "      <td>-10.815</td>\n",
       "      <td>Finkelstein</td>\n",
       "      <td>0</td>\n",
       "      <td>2</td>\n",
       "    </tr>\n",
       "    <tr>\n",
       "      <th>...</th>\n",
       "      <td>...</td>\n",
       "      <td>...</td>\n",
       "      <td>...</td>\n",
       "      <td>...</td>\n",
       "      <td>...</td>\n",
       "      <td>...</td>\n",
       "      <td>...</td>\n",
       "      <td>...</td>\n",
       "      <td>...</td>\n",
       "      <td>...</td>\n",
       "      <td>...</td>\n",
       "      <td>...</td>\n",
       "    </tr>\n",
       "    <tr>\n",
       "      <th>20500</th>\n",
       "      <td>GTGGATAAGTGGAACTGCCATGTGG</td>\n",
       "      <td>GTGATAAGTGGAATGCCATGTGG</td>\n",
       "      <td>+</td>\n",
       "      <td>+</td>\n",
       "      <td>-2.095</td>\n",
       "      <td>-26.843519</td>\n",
       "      <td>-26.843519</td>\n",
       "      <td>0.4050</td>\n",
       "      <td>0.405</td>\n",
       "      <td>Finkelstein</td>\n",
       "      <td>0</td>\n",
       "      <td>2</td>\n",
       "    </tr>\n",
       "    <tr>\n",
       "      <th>20501</th>\n",
       "      <td>GACGCATAAAGATGAGACGCTTC</td>\n",
       "      <td>GACGCATAAAGATGAGACGCTGG</td>\n",
       "      <td>+</td>\n",
       "      <td>+</td>\n",
       "      <td>28.700</td>\n",
       "      <td>0.000000</td>\n",
       "      <td>21.484870</td>\n",
       "      <td>0.0000</td>\n",
       "      <td>28.700</td>\n",
       "      <td>Finkelstein</td>\n",
       "      <td>0</td>\n",
       "      <td>2</td>\n",
       "    </tr>\n",
       "    <tr>\n",
       "      <th>20502</th>\n",
       "      <td>GTGATAAAGTGGAATCGCCATGTGG</td>\n",
       "      <td>GTGATAAGTGGAATGCCATGTGG</td>\n",
       "      <td>+</td>\n",
       "      <td>+</td>\n",
       "      <td>-3.700</td>\n",
       "      <td>-29.040044</td>\n",
       "      <td>-29.040044</td>\n",
       "      <td>-1.2000</td>\n",
       "      <td>-1.200</td>\n",
       "      <td>Finkelstein</td>\n",
       "      <td>0</td>\n",
       "      <td>2</td>\n",
       "    </tr>\n",
       "    <tr>\n",
       "      <th>20503</th>\n",
       "      <td>TCTCCCCGCCCCCTCGCCTCTGG</td>\n",
       "      <td>GACCCCCTCCACCCCGCCTCCGG</td>\n",
       "      <td>-</td>\n",
       "      <td>-</td>\n",
       "      <td>17.935</td>\n",
       "      <td>-6.524068</td>\n",
       "      <td>-6.524068</td>\n",
       "      <td>17.9350</td>\n",
       "      <td>17.935</td>\n",
       "      <td>Tsai_circle</td>\n",
       "      <td>1</td>\n",
       "      <td>0</td>\n",
       "    </tr>\n",
       "    <tr>\n",
       "      <th>20504</th>\n",
       "      <td>GTGATCAAGTGGAATGACCATGTGG</td>\n",
       "      <td>GTGATAAGTGGAATGCCATGTGG</td>\n",
       "      <td>+</td>\n",
       "      <td>+</td>\n",
       "      <td>-7.775</td>\n",
       "      <td>-37.087347</td>\n",
       "      <td>-37.087347</td>\n",
       "      <td>-5.2750</td>\n",
       "      <td>-5.275</td>\n",
       "      <td>Finkelstein</td>\n",
       "      <td>0</td>\n",
       "      <td>2</td>\n",
       "    </tr>\n",
       "  </tbody>\n",
       "</table>\n",
       "<p>20505 rows × 12 columns</p>\n",
       "</div>"
      ],
      "text/plain": [
       "                 target_sequence     grna_target_sequence target_strand  \\\n",
       "0        ACCCCCCCCAACCCCGCCTCGGC  GACCCCCTCCACCCCGCCTCCGG             +   \n",
       "1        AAGAGGAGGGAGATTGTTCCTGG  GGGTGGGGGGAGTTTGCTCCTGG             -   \n",
       "2      GTGATAAGTGGAATTGCCATGTGAG  GTGATAAGTGGAATGCCATGTGG             +   \n",
       "3        AGCACTGTGGATGGAGTTGGAGG  GGCACTGCGGCTGGAGGTGGGGG             +   \n",
       "4      GTGATAAGATGGAATGCCATGTGGG  GTGATAAGTGGAATGCCATGTGG             +   \n",
       "...                          ...                      ...           ...   \n",
       "20500  GTGGATAAGTGGAACTGCCATGTGG  GTGATAAGTGGAATGCCATGTGG             +   \n",
       "20501    GACGCATAAAGATGAGACGCTTC  GACGCATAAAGATGAGACGCTGG             +   \n",
       "20502  GTGATAAAGTGGAATCGCCATGTGG  GTGATAAGTGGAATGCCATGTGG             +   \n",
       "20503    TCTCCCCGCCCCCTCGCCTCTGG  GACCCCCTCCACCCCGCCTCCGG             -   \n",
       "20504  GTGATCAAGTGGAATGACCATGTGG  GTGATAAGTGGAATGCCATGTGG             +   \n",
       "\n",
       "      grna_target_strand  energy_1   energy_2   energy_3  energy_4  energy_5  \\\n",
       "0                      -    26.355   0.000000   8.809075    0.0000    26.355   \n",
       "1                      -    12.735  -4.939260  -4.939260   16.3350    16.335   \n",
       "2                      +   -12.695 -42.815277 -47.572529   -9.1755   -10.195   \n",
       "3                      +    17.605   5.982632   5.982632   21.1050    21.105   \n",
       "4                      +   -13.315 -48.090126 -48.090126  -10.8150   -10.815   \n",
       "...                  ...       ...        ...        ...       ...       ...   \n",
       "20500                  +    -2.095 -26.843519 -26.843519    0.4050     0.405   \n",
       "20501                  +    28.700   0.000000  21.484870    0.0000    28.700   \n",
       "20502                  +    -3.700 -29.040044 -29.040044   -1.2000    -1.200   \n",
       "20503                  -    17.935  -6.524068  -6.524068   17.9350    17.935   \n",
       "20504                  +    -7.775 -37.087347 -37.087347   -5.2750    -5.275   \n",
       "\n",
       "        study_name  whole_genome  delivery_mode  \n",
       "0      Tsai_circle             1              0  \n",
       "1      Tsai_circle             1              0  \n",
       "2      Finkelstein             0              2  \n",
       "3      Tsai_circle             1              0  \n",
       "4      Finkelstein             0              2  \n",
       "...            ...           ...            ...  \n",
       "20500  Finkelstein             0              2  \n",
       "20501  Finkelstein             0              2  \n",
       "20502  Finkelstein             0              2  \n",
       "20503  Tsai_circle             1              0  \n",
       "20504  Finkelstein             0              2  \n",
       "\n",
       "[20505 rows x 12 columns]"
      ]
     },
     "execution_count": 16,
     "metadata": {},
     "output_type": "execute_result"
    }
   ],
   "source": [
    "select(df_train, params)"
   ]
  },
  {
   "cell_type": "code",
   "execution_count": null,
   "id": "accompanied-wallet",
   "metadata": {},
   "outputs": [],
   "source": []
  }
 ],
 "metadata": {
  "kernelspec": {
   "display_name": "Python 3",
   "language": "python",
   "name": "python3"
  },
  "language_info": {
   "codemirror_mode": {
    "name": "ipython",
    "version": 3
   },
   "file_extension": ".py",
   "mimetype": "text/x-python",
   "name": "python",
   "nbconvert_exporter": "python",
   "pygments_lexer": "ipython3",
   "version": "3.7.5"
  }
 },
 "nbformat": 4,
 "nbformat_minor": 5
}
