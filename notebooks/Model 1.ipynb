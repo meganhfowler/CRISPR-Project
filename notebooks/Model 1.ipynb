{
 "cells": [
  {
   "cell_type": "code",
   "execution_count": 1,
   "id": "romantic-oracle",
   "metadata": {},
   "outputs": [],
   "source": [
    "import numpy as np\n",
    "import pandas as pd\n",
    "import torch\n",
    "from torch.utils.data import TensorDataset, DataLoader\n",
    "import torch.nn as nn\n",
    "import torch.nn.functional as F\n",
    "import matplotlib.pyplot as plt"
   ]
  },
  {
   "cell_type": "code",
   "execution_count": 2,
   "id": "bacterial-syria",
   "metadata": {},
   "outputs": [],
   "source": [
    "pd.set_option('display.max_colwidth', None)"
   ]
  },
  {
   "cell_type": "code",
   "execution_count": 3,
   "id": "balanced-macintosh",
   "metadata": {},
   "outputs": [],
   "source": [
    "df_train = pd.read_pickle(\"../data/df_train.pkl\")\n",
    "df_test = pd.read_pickle(\"../data/df_test.pkl\")"
   ]
  },
  {
   "cell_type": "code",
   "execution_count": 4,
   "id": "consolidated-lancaster",
   "metadata": {},
   "outputs": [],
   "source": [
    "df_train_X = df_train.drop(columns = [\"cleavage_freq\"])\n",
    "df_train_y = df_train[\"cleavage_freq\"]"
   ]
  },
  {
   "cell_type": "markdown",
   "id": "danish-samuel",
   "metadata": {},
   "source": [
    "### Preprocessing"
   ]
  },
  {
   "cell_type": "code",
   "execution_count": 5,
   "id": "protected-program",
   "metadata": {},
   "outputs": [],
   "source": [
    "class Preprocessing:\n",
    "    def fold_seq(df):\n",
    "        df[\"stacked\"] = df[\"grna_target_sequence\"].apply(lambda x: x.tolist()) + df[\"target_sequence\"].apply(lambda x: x.tolist())\n",
    "        df[\"stacked\"] = df[\"stacked\"].apply(lambda x: np.array(x))\n",
    "    \n",
    "    def tensorfy(stacked):\n",
    "        temp = []\n",
    "        for i in stacked:\n",
    "            temp.append(i)\n",
    "        return torch.from_numpy(np.array(temp).astype(np.float32))"
   ]
  },
  {
   "cell_type": "code",
   "execution_count": 6,
   "id": "natural-national",
   "metadata": {},
   "outputs": [],
   "source": [
    "Preprocessing.fold_seq(df_train_X)\n",
    "X = Preprocessing.tensorfy(df_train_X[\"stacked\"])"
   ]
  },
  {
   "cell_type": "code",
   "execution_count": 7,
   "id": "compound-congo",
   "metadata": {},
   "outputs": [],
   "source": [
    "#np.array(df_train_y).reshape(df_train_y.shape[0], 1)"
   ]
  },
  {
   "cell_type": "code",
   "execution_count": 8,
   "id": "focused-telling",
   "metadata": {},
   "outputs": [],
   "source": [
    "y = torch.Tensor(np.array(df_train_y).reshape(df_train_y.shape[0], 1).astype(np.float32))"
   ]
  },
  {
   "cell_type": "markdown",
   "id": "specific-fabric",
   "metadata": {},
   "source": [
    "### Model"
   ]
  },
  {
   "cell_type": "code",
   "execution_count": 9,
   "id": "through-explorer",
   "metadata": {},
   "outputs": [],
   "source": [
    "train_ds = TensorDataset(X, y)"
   ]
  },
  {
   "cell_type": "code",
   "execution_count": 10,
   "id": "extra-apple",
   "metadata": {},
   "outputs": [
    {
     "data": {
      "text/plain": [
       "[tensor([[0.7500, 0.2500, 1.0000, 0.7500, 1.0000, 0.2500, 0.5000, 0.2500, 0.2500,\n",
       "          0.2500, 0.7500, 0.2500, 0.5000, 0.7500, 0.2500, 0.7500, 0.2500, 1.0000,\n",
       "          0.7500, 1.0000, 0.5000, 0.7500, 0.7500, 0.0000, 0.0000, 0.0000, 0.0000,\n",
       "          0.0000, 0.0000, 0.0000, 0.0000, 0.0000, 0.0000, 0.0000, 0.0000, 0.0000,\n",
       "          0.0000, 0.0000, 0.0000, 0.0000, 0.0000, 0.0000, 0.0000, 0.0000, 0.0000,\n",
       "          0.0000, 0.0000, 0.0000, 0.0000, 0.0000, 0.7500, 0.2500, 1.0000, 0.7500,\n",
       "          1.0000, 0.2500, 0.5000, 0.2500, 0.2500, 0.2500, 0.7500, 0.2500, 0.5000,\n",
       "          0.7500, 0.5000, 0.7500, 0.2500, 0.7500, 0.7500, 1.0000, 0.5000, 0.7500,\n",
       "          0.7500, 0.0000, 0.0000, 0.0000, 0.0000, 0.0000, 0.0000, 0.0000, 0.0000,\n",
       "          0.0000, 0.0000, 0.0000, 0.0000, 0.0000, 0.0000, 0.0000, 0.0000, 0.0000,\n",
       "          0.0000, 0.0000, 0.0000, 0.0000, 0.0000, 0.0000, 0.0000, 0.0000, 0.0000,\n",
       "          0.0000],\n",
       "         [0.7500, 0.2500, 1.0000, 1.0000, 1.0000, 1.0000, 1.0000, 0.5000, 1.0000,\n",
       "          1.0000, 0.2500, 1.0000, 1.0000, 1.0000, 1.0000, 0.7500, 1.0000, 1.0000,\n",
       "          0.5000, 1.0000, 1.0000, 0.7500, 0.7500, 0.0000, 0.0000, 0.0000, 0.0000,\n",
       "          0.0000, 0.0000, 0.0000, 0.0000, 0.0000, 0.0000, 0.0000, 0.0000, 0.0000,\n",
       "          0.0000, 0.0000, 0.0000, 0.0000, 0.0000, 0.0000, 0.0000, 0.0000, 0.0000,\n",
       "          0.0000, 0.0000, 0.0000, 0.0000, 0.0000, 0.7500, 1.0000, 1.0000, 1.0000,\n",
       "          1.0000, 1.0000, 1.0000, 0.2500, 1.0000, 1.0000, 0.2500, 1.0000, 1.0000,\n",
       "          1.0000, 1.0000, 0.2500, 1.0000, 1.0000, 0.5000, 1.0000, 0.7500, 0.7500,\n",
       "          0.7500, 0.0000, 0.0000, 0.0000, 0.0000, 0.0000, 0.0000, 0.0000, 0.0000,\n",
       "          0.0000, 0.0000, 0.0000, 0.0000, 0.0000, 0.0000, 0.0000, 0.0000, 0.0000,\n",
       "          0.0000, 0.0000, 0.0000, 0.0000, 0.0000, 0.0000, 0.0000, 0.0000, 0.0000,\n",
       "          0.0000],\n",
       "         [0.7500, 0.5000, 0.7500, 0.2500, 0.5000, 0.2500, 0.2500, 0.7500, 0.5000,\n",
       "          0.7500, 0.7500, 0.2500, 0.2500, 0.5000, 0.7500, 1.0000, 1.0000, 0.2500,\n",
       "          0.5000, 0.7500, 0.5000, 0.7500, 0.7500, 0.0000, 0.0000, 0.0000, 0.0000,\n",
       "          0.0000, 0.0000, 0.0000, 0.0000, 0.0000, 0.0000, 0.0000, 0.0000, 0.0000,\n",
       "          0.0000, 0.0000, 0.0000, 0.0000, 0.0000, 0.0000, 0.0000, 0.0000, 0.0000,\n",
       "          0.0000, 0.0000, 0.0000, 0.0000, 0.0000, 1.0000, 0.5000, 0.7500, 0.2500,\n",
       "          0.5000, 0.7500, 0.2500, 0.7500, 0.5000, 0.7500, 0.7500, 0.2500, 0.2500,\n",
       "          0.5000, 0.7500, 1.0000, 1.0000, 0.2500, 0.5000, 0.7500, 0.5000, 0.7500,\n",
       "          0.7500, 0.0000, 0.0000, 0.0000, 0.0000, 0.0000, 0.0000, 0.0000, 0.0000,\n",
       "          0.0000, 0.0000, 0.0000, 0.0000, 0.0000, 0.0000, 0.0000, 0.0000, 0.0000,\n",
       "          0.0000, 0.0000, 0.0000, 0.0000, 0.0000, 0.0000, 0.0000, 0.0000, 0.0000,\n",
       "          0.0000],\n",
       "         [0.7500, 0.2500, 1.0000, 0.7500, 1.0000, 0.2500, 0.5000, 0.2500, 0.2500,\n",
       "          0.2500, 0.7500, 0.2500, 0.5000, 0.7500, 0.2500, 0.7500, 0.2500, 1.0000,\n",
       "          0.7500, 1.0000, 0.5000, 0.7500, 0.7500, 0.0000, 0.0000, 0.0000, 0.0000,\n",
       "          0.0000, 0.0000, 0.0000, 0.0000, 0.0000, 0.0000, 0.0000, 0.0000, 0.0000,\n",
       "          0.0000, 0.0000, 0.0000, 0.0000, 0.0000, 0.0000, 0.0000, 0.0000, 0.0000,\n",
       "          0.0000, 0.0000, 0.0000, 0.0000, 0.0000, 0.7500, 0.2500, 1.0000, 0.7500,\n",
       "          1.0000, 0.2500, 0.5000, 0.2500, 0.2500, 0.2500, 0.7500, 0.5000, 0.2500,\n",
       "          0.5000, 0.7500, 0.2500, 0.7500, 0.2500, 1.0000, 1.0000, 0.7500, 1.0000,\n",
       "          0.5000, 0.7500, 0.7500, 0.0000, 0.0000, 0.0000, 0.0000, 0.0000, 0.0000,\n",
       "          0.0000, 0.0000, 0.0000, 0.0000, 0.0000, 0.0000, 0.0000, 0.0000, 0.0000,\n",
       "          0.0000, 0.0000, 0.0000, 0.0000, 0.0000, 0.0000, 0.0000, 0.0000, 0.0000,\n",
       "          0.0000],\n",
       "         [0.7500, 0.5000, 0.7500, 0.2500, 0.5000, 0.2500, 0.2500, 0.7500, 0.5000,\n",
       "          0.7500, 0.7500, 0.2500, 0.2500, 0.5000, 0.7500, 1.0000, 1.0000, 0.2500,\n",
       "          0.5000, 0.7500, 0.5000, 0.7500, 0.7500, 0.0000, 0.0000, 0.0000, 0.0000,\n",
       "          0.0000, 0.0000, 0.0000, 0.0000, 0.0000, 0.0000, 0.0000, 0.0000, 0.0000,\n",
       "          0.0000, 0.0000, 0.0000, 0.0000, 0.0000, 0.0000, 0.0000, 0.0000, 0.0000,\n",
       "          0.0000, 0.0000, 0.0000, 0.0000, 0.0000, 0.7500, 0.5000, 0.7500, 0.2500,\n",
       "          0.5000, 0.2500, 0.2500, 0.7500, 0.5000, 0.7500, 0.7500, 0.2500, 0.2500,\n",
       "          0.7500, 0.5000, 0.7500, 1.0000, 1.0000, 1.0000, 0.2500, 0.5000, 0.7500,\n",
       "          0.5000, 0.7500, 0.7500, 0.0000, 0.0000, 0.0000, 0.0000, 0.0000, 0.0000,\n",
       "          0.0000, 0.0000, 0.0000, 0.0000, 0.0000, 0.0000, 0.0000, 0.0000, 0.0000,\n",
       "          0.0000, 0.0000, 0.0000, 0.0000, 0.0000, 0.0000, 0.0000, 0.0000, 0.0000,\n",
       "          0.0000]]),\n",
       " tensor([[2.6486e-05],\n",
       "         [1.8600e-02],\n",
       "         [1.7450e-02],\n",
       "         [1.0423e-04],\n",
       "         [1.3626e-22]])]"
      ]
     },
     "execution_count": 10,
     "metadata": {},
     "output_type": "execute_result"
    }
   ],
   "source": [
    "batch_size = 5\n",
    "train_dl = DataLoader(train_ds, batch_size, shuffle=True)\n",
    "next(iter(train_dl))"
   ]
  },
  {
   "cell_type": "code",
   "execution_count": 11,
   "id": "coral-nickname",
   "metadata": {},
   "outputs": [
    {
     "name": "stdout",
     "output_type": "stream",
     "text": [
      "Parameter containing:\n",
      "tensor([[-0.0244, -0.0648, -0.0476, -0.0802,  0.0867, -0.0849,  0.0310, -0.0395,\n",
      "         -0.0088, -0.0131, -0.0985,  0.0136, -0.0692,  0.0350, -0.0429,  0.0910,\n",
      "         -0.0252, -0.0027,  0.0628, -0.0730,  0.0214,  0.0214,  0.0712,  0.0878,\n",
      "          0.0059,  0.0476, -0.0373, -0.0482, -0.0006, -0.0432,  0.0614,  0.0994,\n",
      "          0.0513, -0.0020, -0.0401,  0.0996,  0.0738, -0.0541, -0.0080, -0.0897,\n",
      "          0.0928, -0.0406, -0.0348,  0.0721, -0.0051,  0.0158,  0.0688,  0.0071,\n",
      "         -0.0731,  0.0832,  0.0406,  0.0912,  0.0543, -0.0144,  0.0838,  0.0879,\n",
      "          0.0599,  0.0351,  0.0354, -0.0289,  0.0026, -0.0054,  0.0972,  0.0950,\n",
      "         -0.0417, -0.0398,  0.0851,  0.0144,  0.0297, -0.0474, -0.0195,  0.0377,\n",
      "          0.0536,  0.0999, -0.0915,  0.0316,  0.0498,  0.0924,  0.0466, -0.0590,\n",
      "         -0.0373, -0.0840, -0.0461,  0.0944,  0.0887,  0.0673, -0.0164,  0.0307,\n",
      "          0.0278, -0.0494, -0.0639, -0.0973, -0.0366, -0.0357, -0.0852,  0.0743,\n",
      "          0.0898,  0.0735, -0.0062,  0.0458]], requires_grad=True)\n",
      "Parameter containing:\n",
      "tensor([-0.0657], requires_grad=True)\n"
     ]
    }
   ],
   "source": [
    "model = nn.Linear(100, 1)\n",
    "print(model.weight)\n",
    "print(model.bias)"
   ]
  },
  {
   "cell_type": "code",
   "execution_count": 12,
   "id": "educated-quarter",
   "metadata": {},
   "outputs": [],
   "source": [
    "opt = torch.optim.SGD(model.parameters(), lr=1e-5)"
   ]
  },
  {
   "cell_type": "code",
   "execution_count": 13,
   "id": "enabling-flash",
   "metadata": {},
   "outputs": [],
   "source": [
    "loss_fn = F.mse_loss"
   ]
  },
  {
   "cell_type": "code",
   "execution_count": 14,
   "id": "fancy-hypothesis",
   "metadata": {},
   "outputs": [
    {
     "name": "stdout",
     "output_type": "stream",
     "text": [
      "tensor(0.0938, grad_fn=<MseLossBackward>)\n"
     ]
    }
   ],
   "source": [
    "loss = loss_fn(model(X), y)\n",
    "print(loss)"
   ]
  },
  {
   "cell_type": "code",
   "execution_count": 15,
   "id": "fresh-hybrid",
   "metadata": {},
   "outputs": [],
   "source": [
    "def fit(num_epochs, model, loss_fn, opt):\n",
    "    for epoch in range(num_epochs):\n",
    "        for xb,yb in train_dl:\n",
    "            # Generate predictions\n",
    "            pred = model(xb)\n",
    "            loss = loss_fn(pred, yb)\n",
    "            # Perform gradient descent\n",
    "            loss.backward()\n",
    "            opt.step()\n",
    "            opt.zero_grad()\n",
    "    print('Training loss: ', loss_fn(model(X), y))"
   ]
  },
  {
   "cell_type": "code",
   "execution_count": 16,
   "id": "reported-intersection",
   "metadata": {},
   "outputs": [
    {
     "name": "stdout",
     "output_type": "stream",
     "text": [
      "Training loss:  tensor(0.0368, grad_fn=<MseLossBackward>)\n"
     ]
    }
   ],
   "source": [
    "fit(100, model, loss_fn, opt)"
   ]
  },
  {
   "cell_type": "code",
   "execution_count": 17,
   "id": "treated-sleeve",
   "metadata": {},
   "outputs": [
    {
     "data": {
      "text/plain": [
       "tensor([[ 0.0064],\n",
       "        [ 0.0692],\n",
       "        [ 0.0454],\n",
       "        ...,\n",
       "        [ 0.1543],\n",
       "        [-0.0080],\n",
       "        [ 0.0575]], grad_fn=<AddmmBackward>)"
      ]
     },
     "execution_count": 17,
     "metadata": {},
     "output_type": "execute_result"
    }
   ],
   "source": [
    "preds = model(X)\n",
    "preds"
   ]
  },
  {
   "cell_type": "code",
   "execution_count": 18,
   "id": "handled-talent",
   "metadata": {},
   "outputs": [
    {
     "data": {
      "text/plain": [
       "tensor([[7.0066e-05],\n",
       "        [1.4500e-04],\n",
       "        [5.1200e-04],\n",
       "        ...,\n",
       "        [1.0640e-03],\n",
       "        [1.9703e-02],\n",
       "        [2.3380e-06]])"
      ]
     },
     "execution_count": 18,
     "metadata": {},
     "output_type": "execute_result"
    }
   ],
   "source": [
    "y"
   ]
  },
  {
   "cell_type": "code",
   "execution_count": 19,
   "id": "devoted-scene",
   "metadata": {},
   "outputs": [],
   "source": [
    "from sklearn.metrics import mean_squared_error\n",
    "from scipy.stats import spearmanr\n",
    "\n",
    "\n",
    "def benchmark(predictions, actuals):\n",
    "    predictions = predictions.detach().numpy()\n",
    "    actuals = actuals.detach().numpy()\n",
    "    mse = mean_squared_error(y_true=actuals, y_pred=predictions)\n",
    "    correlation, pvalue = spearmanr(a=actuals, b=predictions)\n",
    "\n",
    "    return {\n",
    "        'mean_squared_error': mse,\n",
    "        'spearman_rank': {\n",
    "            'correlation':  correlation,\n",
    "            'pvalue': pvalue,\n",
    "        }\n",
    "    }"
   ]
  },
  {
   "cell_type": "code",
   "execution_count": 20,
   "id": "eligible-delicious",
   "metadata": {},
   "outputs": [
    {
     "data": {
      "text/plain": [
       "{'mean_squared_error': 0.0367975,\n",
       " 'spearman_rank': {'correlation': 0.1210440962503619,\n",
       "  'pvalue': 1.4018598149223927e-67}}"
      ]
     },
     "execution_count": 20,
     "metadata": {},
     "output_type": "execute_result"
    }
   ],
   "source": [
    "benchmark(preds, y)"
   ]
  },
  {
   "cell_type": "code",
   "execution_count": 21,
   "id": "visible-lindsay",
   "metadata": {},
   "outputs": [],
   "source": [
    "preds = preds.reshape(preds.shape[0],)\n",
    "y = y.reshape(y.shape[0],)"
   ]
  },
  {
   "cell_type": "code",
   "execution_count": 22,
   "id": "infectious-error",
   "metadata": {},
   "outputs": [],
   "source": [
    "preds = preds.detach().numpy()\n",
    "y = y.detach().numpy()"
   ]
  },
  {
   "cell_type": "code",
   "execution_count": 23,
   "id": "convertible-paintball",
   "metadata": {},
   "outputs": [],
   "source": [
    "v = pd.DataFrame(preds, columns = [\"preds\"])"
   ]
  },
  {
   "cell_type": "code",
   "execution_count": 24,
   "id": "funky-establishment",
   "metadata": {},
   "outputs": [
    {
     "data": {
      "text/html": [
       "<div>\n",
       "<style scoped>\n",
       "    .dataframe tbody tr th:only-of-type {\n",
       "        vertical-align: middle;\n",
       "    }\n",
       "\n",
       "    .dataframe tbody tr th {\n",
       "        vertical-align: top;\n",
       "    }\n",
       "\n",
       "    .dataframe thead th {\n",
       "        text-align: right;\n",
       "    }\n",
       "</style>\n",
       "<table border=\"1\" class=\"dataframe\">\n",
       "  <thead>\n",
       "    <tr style=\"text-align: right;\">\n",
       "      <th></th>\n",
       "      <th>preds</th>\n",
       "      <th>y</th>\n",
       "    </tr>\n",
       "  </thead>\n",
       "  <tbody>\n",
       "    <tr>\n",
       "      <th>0</th>\n",
       "      <td>0.006380</td>\n",
       "      <td>0.000070</td>\n",
       "    </tr>\n",
       "    <tr>\n",
       "      <th>1</th>\n",
       "      <td>0.069195</td>\n",
       "      <td>0.000145</td>\n",
       "    </tr>\n",
       "    <tr>\n",
       "      <th>2</th>\n",
       "      <td>0.045436</td>\n",
       "      <td>0.000512</td>\n",
       "    </tr>\n",
       "    <tr>\n",
       "      <th>3</th>\n",
       "      <td>0.094309</td>\n",
       "      <td>0.000035</td>\n",
       "    </tr>\n",
       "    <tr>\n",
       "      <th>4</th>\n",
       "      <td>0.002964</td>\n",
       "      <td>0.000109</td>\n",
       "    </tr>\n",
       "    <tr>\n",
       "      <th>...</th>\n",
       "      <td>...</td>\n",
       "      <td>...</td>\n",
       "    </tr>\n",
       "    <tr>\n",
       "      <th>20438</th>\n",
       "      <td>0.048059</td>\n",
       "      <td>0.002479</td>\n",
       "    </tr>\n",
       "    <tr>\n",
       "      <th>20439</th>\n",
       "      <td>0.058425</td>\n",
       "      <td>0.000176</td>\n",
       "    </tr>\n",
       "    <tr>\n",
       "      <th>20440</th>\n",
       "      <td>0.154294</td>\n",
       "      <td>0.001064</td>\n",
       "    </tr>\n",
       "    <tr>\n",
       "      <th>20441</th>\n",
       "      <td>-0.007978</td>\n",
       "      <td>0.019703</td>\n",
       "    </tr>\n",
       "    <tr>\n",
       "      <th>20442</th>\n",
       "      <td>0.057478</td>\n",
       "      <td>0.000002</td>\n",
       "    </tr>\n",
       "  </tbody>\n",
       "</table>\n",
       "<p>20443 rows × 2 columns</p>\n",
       "</div>"
      ],
      "text/plain": [
       "          preds         y\n",
       "0      0.006380  0.000070\n",
       "1      0.069195  0.000145\n",
       "2      0.045436  0.000512\n",
       "3      0.094309  0.000035\n",
       "4      0.002964  0.000109\n",
       "...         ...       ...\n",
       "20438  0.048059  0.002479\n",
       "20439  0.058425  0.000176\n",
       "20440  0.154294  0.001064\n",
       "20441 -0.007978  0.019703\n",
       "20442  0.057478  0.000002\n",
       "\n",
       "[20443 rows x 2 columns]"
      ]
     },
     "execution_count": 24,
     "metadata": {},
     "output_type": "execute_result"
    }
   ],
   "source": [
    "v[\"y\"] = y\n",
    "v"
   ]
  },
  {
   "cell_type": "code",
   "execution_count": 25,
   "id": "incorrect-hardware",
   "metadata": {},
   "outputs": [
    {
     "data": {
      "text/plain": [
       "<matplotlib.collections.PathCollection at 0x7f4b4b492f90>"
      ]
     },
     "execution_count": 25,
     "metadata": {},
     "output_type": "execute_result"
    },
    {
     "data": {
      "image/png": "[encoded data removed]",
      "text/plain": [
       "<Figure size 432x288 with 1 Axes>"
      ]
     },
     "metadata": {
      "needs_background": "light"
     },
     "output_type": "display_data"
    }
   ],
   "source": [
    "plt.scatter(v[\"preds\"], v[\"y\"])"
   ]
  },
  {
   "cell_type": "code",
   "execution_count": 26,
   "id": "incorporate-college",
   "metadata": {},
   "outputs": [],
   "source": [
    "v = v[v[\"y\"] > 0.2]"
   ]
  },
  {
   "cell_type": "code",
   "execution_count": 27,
   "id": "bacterial-textbook",
   "metadata": {},
   "outputs": [
    {
     "data": {
      "text/html": [
       "<div>\n",
       "<style scoped>\n",
       "    .dataframe tbody tr th:only-of-type {\n",
       "        vertical-align: middle;\n",
       "    }\n",
       "\n",
       "    .dataframe tbody tr th {\n",
       "        vertical-align: top;\n",
       "    }\n",
       "\n",
       "    .dataframe thead th {\n",
       "        text-align: right;\n",
       "    }\n",
       "</style>\n",
       "<table border=\"1\" class=\"dataframe\">\n",
       "  <thead>\n",
       "    <tr style=\"text-align: right;\">\n",
       "      <th></th>\n",
       "      <th>preds</th>\n",
       "      <th>y</th>\n",
       "    </tr>\n",
       "  </thead>\n",
       "  <tbody>\n",
       "    <tr>\n",
       "      <th>16</th>\n",
       "      <td>0.187391</td>\n",
       "      <td>1.137556</td>\n",
       "    </tr>\n",
       "    <tr>\n",
       "      <th>33</th>\n",
       "      <td>0.088921</td>\n",
       "      <td>2.775273</td>\n",
       "    </tr>\n",
       "    <tr>\n",
       "      <th>86</th>\n",
       "      <td>0.066491</td>\n",
       "      <td>0.312305</td>\n",
       "    </tr>\n",
       "    <tr>\n",
       "      <th>163</th>\n",
       "      <td>0.081629</td>\n",
       "      <td>0.470600</td>\n",
       "    </tr>\n",
       "    <tr>\n",
       "      <th>166</th>\n",
       "      <td>0.021648</td>\n",
       "      <td>0.793148</td>\n",
       "    </tr>\n",
       "    <tr>\n",
       "      <th>...</th>\n",
       "      <td>...</td>\n",
       "      <td>...</td>\n",
       "    </tr>\n",
       "    <tr>\n",
       "      <th>20306</th>\n",
       "      <td>0.019799</td>\n",
       "      <td>0.666007</td>\n",
       "    </tr>\n",
       "    <tr>\n",
       "      <th>20330</th>\n",
       "      <td>0.084805</td>\n",
       "      <td>1.958181</td>\n",
       "    </tr>\n",
       "    <tr>\n",
       "      <th>20372</th>\n",
       "      <td>0.072564</td>\n",
       "      <td>1.340597</td>\n",
       "    </tr>\n",
       "    <tr>\n",
       "      <th>20388</th>\n",
       "      <td>0.051556</td>\n",
       "      <td>0.411203</td>\n",
       "    </tr>\n",
       "    <tr>\n",
       "      <th>20421</th>\n",
       "      <td>0.111908</td>\n",
       "      <td>1.218421</td>\n",
       "    </tr>\n",
       "  </tbody>\n",
       "</table>\n",
       "<p>702 rows × 2 columns</p>\n",
       "</div>"
      ],
      "text/plain": [
       "          preds         y\n",
       "16     0.187391  1.137556\n",
       "33     0.088921  2.775273\n",
       "86     0.066491  0.312305\n",
       "163    0.081629  0.470600\n",
       "166    0.021648  0.793148\n",
       "...         ...       ...\n",
       "20306  0.019799  0.666007\n",
       "20330  0.084805  1.958181\n",
       "20372  0.072564  1.340597\n",
       "20388  0.051556  0.411203\n",
       "20421  0.111908  1.218421\n",
       "\n",
       "[702 rows x 2 columns]"
      ]
     },
     "execution_count": 27,
     "metadata": {},
     "output_type": "execute_result"
    }
   ],
   "source": [
    "v"
   ]
  },
  {
   "cell_type": "code",
   "execution_count": 28,
   "id": "settled-suspension",
   "metadata": {},
   "outputs": [
    {
     "data": {
      "text/plain": [
       "(20443,)"
      ]
     },
     "execution_count": 28,
     "metadata": {},
     "output_type": "execute_result"
    }
   ],
   "source": [
    "y.shape"
   ]
  },
  {
   "cell_type": "code",
   "execution_count": 29,
   "id": "continuous-covering",
   "metadata": {},
   "outputs": [],
   "source": [
    "# 728/20443 ~ 3.6% of data high cleavage frequencies that model doesn't predict"
   ]
  },
  {
   "cell_type": "code",
   "execution_count": null,
   "id": "liberal-classic",
   "metadata": {},
   "outputs": [],
   "source": []
  }
 ],
 "metadata": {
  "kernelspec": {
   "display_name": "Python 3",
   "language": "python",
   "name": "python3"
  },
  "language_info": {
   "codemirror_mode": {
    "name": "ipython",
    "version": 3
   },
   "file_extension": ".py",
   "mimetype": "text/x-python",
   "name": "python",
   "nbconvert_exporter": "python",
   "pygments_lexer": "ipython3",
   "version": "3.7.5"
  }
 },
 "nbformat": 4,
 "nbformat_minor": 5
}
