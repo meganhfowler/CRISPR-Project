{
 "cells": [
  {
   "cell_type": "code",
   "execution_count": 1,
   "id": "romantic-oracle",
   "metadata": {},
   "outputs": [],
   "source": [
    "import numpy as np\n",
    "import pandas as pd\n",
    "import torch\n",
    "from torch.utils.data import TensorDataset, DataLoader\n",
    "import torch.nn as nn\n",
    "import torch.nn.functional as F\n",
    "import matplotlib.pyplot as plt"
   ]
  },
  {
   "cell_type": "code",
   "execution_count": 2,
   "id": "bacterial-syria",
   "metadata": {},
   "outputs": [],
   "source": [
    "pd.set_option('display.max_colwidth', None)"
   ]
  },
  {
   "cell_type": "code",
   "execution_count": 3,
   "id": "balanced-macintosh",
   "metadata": {},
   "outputs": [],
   "source": [
    "df_train = pd.read_pickle(\"../data/df_train.pkl\")\n",
    "df_test = pd.read_pickle(\"../data/df_test.pkl\")"
   ]
  },
  {
   "cell_type": "code",
   "execution_count": 4,
   "id": "consolidated-lancaster",
   "metadata": {},
   "outputs": [],
   "source": [
    "df_train_X = df_train.drop(columns = [\"cleavage_freq\"])\n",
    "df_train_y = df_train[\"cleavage_freq\"]"
   ]
  },
  {
   "cell_type": "markdown",
   "id": "danish-samuel",
   "metadata": {},
   "source": [
    "### Preprocessing"
   ]
  },
  {
   "cell_type": "code",
   "execution_count": 5,
   "id": "protected-program",
   "metadata": {},
   "outputs": [],
   "source": [
    "class Preprocessing:\n",
    "    def fold_seq(df):\n",
    "        df[\"stacked\"] = df[\"grna_target_sequence\"].apply(lambda x: x.tolist()) + df[\"target_sequence\"].apply(lambda x: x.tolist())\n",
    "        df[\"stacked\"] = df[\"stacked\"].apply(lambda x: np.array(x))\n",
    "    \n",
    "    def tensorfy(stacked):\n",
    "        temp = []\n",
    "        for i in stacked:\n",
    "            temp.append(i)\n",
    "        return torch.from_numpy(np.array(temp).astype(np.float32))"
   ]
  },
  {
   "cell_type": "code",
   "execution_count": 6,
   "id": "natural-national",
   "metadata": {},
   "outputs": [],
   "source": [
    "Preprocessing.fold_seq(df_train_X)\n",
    "X = Preprocessing.tensorfy(df_train_X[\"stacked\"])"
   ]
  },
  {
   "cell_type": "code",
   "execution_count": 7,
   "id": "considered-combat",
   "metadata": {},
   "outputs": [],
   "source": [
    "#np.array(df_train_y).reshape(df_train_y.shape[0], 1)"
   ]
  },
  {
   "cell_type": "code",
   "execution_count": 8,
   "id": "focused-telling",
   "metadata": {},
   "outputs": [],
   "source": [
    "y = torch.Tensor(np.array(df_train_y).reshape(df_train_y.shape[0], 1).astype(np.float32))"
   ]
  },
  {
   "cell_type": "markdown",
   "id": "specific-fabric",
   "metadata": {},
   "source": [
    "### Model"
   ]
  },
  {
   "cell_type": "code",
   "execution_count": 9,
   "id": "broken-partition",
   "metadata": {},
   "outputs": [],
   "source": [
    "train_ds = TensorDataset(X, y)"
   ]
  },
  {
   "cell_type": "code",
   "execution_count": 10,
   "id": "executed-agreement",
   "metadata": {},
   "outputs": [],
   "source": [
    "batch_size = 5\n",
    "train_dl = DataLoader(train_ds, batch_size, shuffle=True)\n",
    "#next(iter(train_dl))"
   ]
  },
  {
   "cell_type": "code",
   "execution_count": 11,
   "id": "pending-ethnic",
   "metadata": {},
   "outputs": [
    {
     "name": "stdout",
     "output_type": "stream",
     "text": [
      "Parameter containing:\n",
      "tensor([[ 0.0898, -0.0735,  0.0236,  0.0410,  0.0598,  0.0471,  0.0864, -0.0884,\n",
      "          0.0287,  0.0346,  0.0797,  0.0262, -0.0660, -0.0366, -0.0772, -0.0439,\n",
      "          0.0304,  0.0832, -0.0618,  0.0259, -0.0810, -0.0845,  0.0171,  0.0321,\n",
      "         -0.0076,  0.0309, -0.0988, -0.0443, -0.0736, -0.0583, -0.0778, -0.0644,\n",
      "          0.0946, -0.0271,  0.0947, -0.0260,  0.0321,  0.0835, -0.0593,  0.0969,\n",
      "         -0.0106,  0.0894, -0.0665,  0.0314, -0.0573, -0.0873,  0.0540,  0.0958,\n",
      "         -0.0928,  0.0286, -0.0232, -0.0788,  0.0692, -0.0122, -0.0309,  0.0755,\n",
      "         -0.0381,  0.0925,  0.0092, -0.0406, -0.0723, -0.0408, -0.0599, -0.0477,\n",
      "         -0.0660,  0.0687,  0.0170,  0.0505,  0.0907,  0.0963, -0.0828,  0.0340,\n",
      "          0.0746,  0.0786,  0.0422, -0.0148, -0.0381, -0.0459,  0.0535,  0.0623,\n",
      "         -0.0251, -0.0411,  0.0826, -0.0016,  0.0057,  0.0213,  0.0488, -0.0814,\n",
      "          0.0654, -0.0008, -0.0737, -0.0766, -0.0193, -0.0487,  0.0894,  0.0739,\n",
      "          0.0026, -0.0075,  0.0251, -0.0686]], requires_grad=True)\n",
      "Parameter containing:\n",
      "tensor([0.0960], requires_grad=True)\n"
     ]
    }
   ],
   "source": [
    "model = nn.Linear(100, 1)\n",
    "print(model.weight)\n",
    "print(model.bias)"
   ]
  },
  {
   "cell_type": "code",
   "execution_count": 12,
   "id": "worldwide-experience",
   "metadata": {},
   "outputs": [],
   "source": [
    "opt = torch.optim.SGD(model.parameters(), lr=1e-5)"
   ]
  },
  {
   "cell_type": "code",
   "execution_count": 13,
   "id": "powered-vegetarian",
   "metadata": {},
   "outputs": [],
   "source": [
    "loss_fn = F.mse_loss"
   ]
  },
  {
   "cell_type": "code",
   "execution_count": 14,
   "id": "automatic-savannah",
   "metadata": {},
   "outputs": [
    {
     "name": "stdout",
     "output_type": "stream",
     "text": [
      "tensor(0.1114, grad_fn=<MseLossBackward>)\n"
     ]
    }
   ],
   "source": [
    "loss = loss_fn(model(X), y)\n",
    "print(loss)"
   ]
  },
  {
   "cell_type": "code",
   "execution_count": 15,
   "id": "fresh-hybrid",
   "metadata": {},
   "outputs": [],
   "source": [
    "def fit(num_epochs, model, loss_fn, opt):\n",
    "    for epoch in range(num_epochs):\n",
    "        for xb,yb in train_dl:\n",
    "            # Generate predictions\n",
    "            pred = model(xb)\n",
    "            loss = loss_fn(pred, yb)\n",
    "            # Perform gradient descent\n",
    "            loss.backward()\n",
    "            opt.step()\n",
    "            opt.zero_grad()\n",
    "    print('Training loss: ', loss_fn(model(X), y))"
   ]
  },
  {
   "cell_type": "code",
   "execution_count": 16,
   "id": "organizational-granny",
   "metadata": {},
   "outputs": [
    {
     "name": "stdout",
     "output_type": "stream",
     "text": [
      "Training loss:  tensor(0.0381, grad_fn=<MseLossBackward>)\n"
     ]
    }
   ],
   "source": [
    "fit(100, model, loss_fn, opt)"
   ]
  },
  {
   "cell_type": "code",
   "execution_count": 17,
   "id": "chemical-measure",
   "metadata": {},
   "outputs": [
    {
     "data": {
      "text/plain": [
       "tensor([[ 0.0471],\n",
       "        [ 0.0195],\n",
       "        [-0.1581],\n",
       "        ...,\n",
       "        [ 0.1632],\n",
       "        [ 0.0037],\n",
       "        [ 0.0450]], grad_fn=<AddmmBackward>)"
      ]
     },
     "execution_count": 17,
     "metadata": {},
     "output_type": "execute_result"
    }
   ],
   "source": [
    "preds = model(X)\n",
    "preds"
   ]
  },
  {
   "cell_type": "code",
   "execution_count": 18,
   "id": "sophisticated-thong",
   "metadata": {},
   "outputs": [
    {
     "data": {
      "text/plain": [
       "tensor([[7.0066e-05],\n",
       "        [1.4500e-04],\n",
       "        [5.1200e-04],\n",
       "        ...,\n",
       "        [1.0640e-03],\n",
       "        [1.9703e-02],\n",
       "        [2.3380e-06]])"
      ]
     },
     "execution_count": 18,
     "metadata": {},
     "output_type": "execute_result"
    }
   ],
   "source": [
    "y"
   ]
  },
  {
   "cell_type": "code",
   "execution_count": 19,
   "id": "digital-handy",
   "metadata": {},
   "outputs": [],
   "source": [
    "from sklearn.metrics import mean_squared_error\n",
    "from scipy.stats import spearmanr\n",
    "\n",
    "\n",
    "def benchmark(predictions, actuals):\n",
    "    predictions = predictions.detach().numpy()\n",
    "    actuals = actuals.detach().numpy()\n",
    "    mse = mean_squared_error(y_true=actuals, y_pred=predictions)\n",
    "    correlation, pvalue = spearmanr(a=actuals, b=predictions)\n",
    "\n",
    "    return {\n",
    "        'mean_squared_error': mse,\n",
    "        'spearman_rank': {\n",
    "            'correlation':  correlation,\n",
    "            'pvalue': pvalue,\n",
    "        }\n",
    "    }"
   ]
  },
  {
   "cell_type": "code",
   "execution_count": 20,
   "id": "novel-pride",
   "metadata": {},
   "outputs": [
    {
     "data": {
      "text/plain": [
       "{'mean_squared_error': 0.038078215,\n",
       " 'spearman_rank': {'correlation': 0.1689672774176233,\n",
       "  'pvalue': 8.89543999758166e-131}}"
      ]
     },
     "execution_count": 20,
     "metadata": {},
     "output_type": "execute_result"
    }
   ],
   "source": [
    "benchmark(preds, y)"
   ]
  },
  {
   "cell_type": "code",
   "execution_count": 21,
   "id": "destroyed-judges",
   "metadata": {},
   "outputs": [],
   "source": [
    "preds = preds.reshape(preds.shape[0],)\n",
    "y = y.reshape(y.shape[0],)"
   ]
  },
  {
   "cell_type": "code",
   "execution_count": 22,
   "id": "bibliographic-module",
   "metadata": {},
   "outputs": [],
   "source": [
    "preds = preds.detach().numpy()\n",
    "y = y.detach().numpy()"
   ]
  },
  {
   "cell_type": "code",
   "execution_count": 23,
   "id": "heard-rabbit",
   "metadata": {},
   "outputs": [
    {
     "data": {
      "text/plain": [
       "<matplotlib.collections.PathCollection at 0x7fa3b41444d0>"
      ]
     },
     "execution_count": 23,
     "metadata": {},
     "output_type": "execute_result"
    },
    {
     "data": {
      "image/png": "[encoded data removed]",
      "text/plain": [
       "<Figure size 432x288 with 1 Axes>"
      ]
     },
     "metadata": {
      "needs_background": "light"
     },
     "output_type": "display_data"
    }
   ],
   "source": [
    "plt.scatter(preds, y)"
   ]
  },
  {
   "cell_type": "code",
   "execution_count": 24,
   "id": "random-entry",
   "metadata": {},
   "outputs": [],
   "source": [
    "v = pd.DataFrame(preds, columns = [\"preds\"])"
   ]
  },
  {
   "cell_type": "code",
   "execution_count": 25,
   "id": "august-louis",
   "metadata": {},
   "outputs": [
    {
     "data": {
      "text/html": [
       "<div>\n",
       "<style scoped>\n",
       "    .dataframe tbody tr th:only-of-type {\n",
       "        vertical-align: middle;\n",
       "    }\n",
       "\n",
       "    .dataframe tbody tr th {\n",
       "        vertical-align: top;\n",
       "    }\n",
       "\n",
       "    .dataframe thead th {\n",
       "        text-align: right;\n",
       "    }\n",
       "</style>\n",
       "<table border=\"1\" class=\"dataframe\">\n",
       "  <thead>\n",
       "    <tr style=\"text-align: right;\">\n",
       "      <th></th>\n",
       "      <th>preds</th>\n",
       "      <th>y</th>\n",
       "    </tr>\n",
       "  </thead>\n",
       "  <tbody>\n",
       "    <tr>\n",
       "      <th>0</th>\n",
       "      <td>0.047088</td>\n",
       "      <td>0.000070</td>\n",
       "    </tr>\n",
       "    <tr>\n",
       "      <th>1</th>\n",
       "      <td>0.019526</td>\n",
       "      <td>0.000145</td>\n",
       "    </tr>\n",
       "    <tr>\n",
       "      <th>2</th>\n",
       "      <td>-0.158123</td>\n",
       "      <td>0.000512</td>\n",
       "    </tr>\n",
       "    <tr>\n",
       "      <th>3</th>\n",
       "      <td>0.105560</td>\n",
       "      <td>0.000035</td>\n",
       "    </tr>\n",
       "    <tr>\n",
       "      <th>4</th>\n",
       "      <td>0.028963</td>\n",
       "      <td>0.000109</td>\n",
       "    </tr>\n",
       "    <tr>\n",
       "      <th>...</th>\n",
       "      <td>...</td>\n",
       "      <td>...</td>\n",
       "    </tr>\n",
       "    <tr>\n",
       "      <th>20438</th>\n",
       "      <td>0.023040</td>\n",
       "      <td>0.002479</td>\n",
       "    </tr>\n",
       "    <tr>\n",
       "      <th>20439</th>\n",
       "      <td>0.133620</td>\n",
       "      <td>0.000176</td>\n",
       "    </tr>\n",
       "    <tr>\n",
       "      <th>20440</th>\n",
       "      <td>0.163176</td>\n",
       "      <td>0.001064</td>\n",
       "    </tr>\n",
       "    <tr>\n",
       "      <th>20441</th>\n",
       "      <td>0.003651</td>\n",
       "      <td>0.019703</td>\n",
       "    </tr>\n",
       "    <tr>\n",
       "      <th>20442</th>\n",
       "      <td>0.044993</td>\n",
       "      <td>0.000002</td>\n",
       "    </tr>\n",
       "  </tbody>\n",
       "</table>\n",
       "<p>20443 rows × 2 columns</p>\n",
       "</div>"
      ],
      "text/plain": [
       "          preds         y\n",
       "0      0.047088  0.000070\n",
       "1      0.019526  0.000145\n",
       "2     -0.158123  0.000512\n",
       "3      0.105560  0.000035\n",
       "4      0.028963  0.000109\n",
       "...         ...       ...\n",
       "20438  0.023040  0.002479\n",
       "20439  0.133620  0.000176\n",
       "20440  0.163176  0.001064\n",
       "20441  0.003651  0.019703\n",
       "20442  0.044993  0.000002\n",
       "\n",
       "[20443 rows x 2 columns]"
      ]
     },
     "execution_count": 25,
     "metadata": {},
     "output_type": "execute_result"
    }
   ],
   "source": [
    "v[\"y\"] = y\n",
    "v"
   ]
  },
  {
   "cell_type": "code",
   "execution_count": 26,
   "id": "exciting-slovak",
   "metadata": {},
   "outputs": [
    {
     "data": {
      "text/plain": [
       "<matplotlib.collections.PathCollection at 0x7fa3b433dc50>"
      ]
     },
     "execution_count": 26,
     "metadata": {},
     "output_type": "execute_result"
    },
    {
     "data": {
      "image/png": "[encoded data removed]",
      "text/plain": [
       "<Figure size 432x288 with 1 Axes>"
      ]
     },
     "metadata": {
      "needs_background": "light"
     },
     "output_type": "display_data"
    }
   ],
   "source": [
    "plt.scatter(v[\"preds\"], v[\"y\"])"
   ]
  },
  {
   "cell_type": "code",
   "execution_count": 27,
   "id": "floating-anthropology",
   "metadata": {},
   "outputs": [],
   "source": [
    "v = v[v[\"y\"] > 0.2]"
   ]
  },
  {
   "cell_type": "code",
   "execution_count": 28,
   "id": "posted-cutting",
   "metadata": {},
   "outputs": [
    {
     "data": {
      "text/html": [
       "<div>\n",
       "<style scoped>\n",
       "    .dataframe tbody tr th:only-of-type {\n",
       "        vertical-align: middle;\n",
       "    }\n",
       "\n",
       "    .dataframe tbody tr th {\n",
       "        vertical-align: top;\n",
       "    }\n",
       "\n",
       "    .dataframe thead th {\n",
       "        text-align: right;\n",
       "    }\n",
       "</style>\n",
       "<table border=\"1\" class=\"dataframe\">\n",
       "  <thead>\n",
       "    <tr style=\"text-align: right;\">\n",
       "      <th></th>\n",
       "      <th>preds</th>\n",
       "      <th>y</th>\n",
       "    </tr>\n",
       "  </thead>\n",
       "  <tbody>\n",
       "    <tr>\n",
       "      <th>16</th>\n",
       "      <td>0.070340</td>\n",
       "      <td>1.137556</td>\n",
       "    </tr>\n",
       "    <tr>\n",
       "      <th>33</th>\n",
       "      <td>0.122266</td>\n",
       "      <td>2.775273</td>\n",
       "    </tr>\n",
       "    <tr>\n",
       "      <th>86</th>\n",
       "      <td>0.094582</td>\n",
       "      <td>0.312305</td>\n",
       "    </tr>\n",
       "    <tr>\n",
       "      <th>163</th>\n",
       "      <td>0.107776</td>\n",
       "      <td>0.470600</td>\n",
       "    </tr>\n",
       "    <tr>\n",
       "      <th>166</th>\n",
       "      <td>0.016603</td>\n",
       "      <td>0.793148</td>\n",
       "    </tr>\n",
       "    <tr>\n",
       "      <th>...</th>\n",
       "      <td>...</td>\n",
       "      <td>...</td>\n",
       "    </tr>\n",
       "    <tr>\n",
       "      <th>20306</th>\n",
       "      <td>0.006159</td>\n",
       "      <td>0.666007</td>\n",
       "    </tr>\n",
       "    <tr>\n",
       "      <th>20330</th>\n",
       "      <td>0.072302</td>\n",
       "      <td>1.958181</td>\n",
       "    </tr>\n",
       "    <tr>\n",
       "      <th>20372</th>\n",
       "      <td>0.126680</td>\n",
       "      <td>1.340597</td>\n",
       "    </tr>\n",
       "    <tr>\n",
       "      <th>20388</th>\n",
       "      <td>0.003131</td>\n",
       "      <td>0.411203</td>\n",
       "    </tr>\n",
       "    <tr>\n",
       "      <th>20421</th>\n",
       "      <td>0.100686</td>\n",
       "      <td>1.218421</td>\n",
       "    </tr>\n",
       "  </tbody>\n",
       "</table>\n",
       "<p>702 rows × 2 columns</p>\n",
       "</div>"
      ],
      "text/plain": [
       "          preds         y\n",
       "16     0.070340  1.137556\n",
       "33     0.122266  2.775273\n",
       "86     0.094582  0.312305\n",
       "163    0.107776  0.470600\n",
       "166    0.016603  0.793148\n",
       "...         ...       ...\n",
       "20306  0.006159  0.666007\n",
       "20330  0.072302  1.958181\n",
       "20372  0.126680  1.340597\n",
       "20388  0.003131  0.411203\n",
       "20421  0.100686  1.218421\n",
       "\n",
       "[702 rows x 2 columns]"
      ]
     },
     "execution_count": 28,
     "metadata": {},
     "output_type": "execute_result"
    }
   ],
   "source": [
    "v"
   ]
  },
  {
   "cell_type": "code",
   "execution_count": 29,
   "id": "religious-expense",
   "metadata": {},
   "outputs": [
    {
     "data": {
      "text/plain": [
       "(20443,)"
      ]
     },
     "execution_count": 29,
     "metadata": {},
     "output_type": "execute_result"
    }
   ],
   "source": [
    "y.shape"
   ]
  },
  {
   "cell_type": "code",
   "execution_count": 30,
   "id": "visible-butterfly",
   "metadata": {},
   "outputs": [],
   "source": [
    "# 728/20443 ~ 3.6% of data high cleavage frequencies that model doesn't predict"
   ]
  },
  {
   "cell_type": "code",
   "execution_count": null,
   "id": "external-dodge",
   "metadata": {},
   "outputs": [],
   "source": []
  }
 ],
 "metadata": {
  "kernelspec": {
   "display_name": "Python 3",
   "language": "python",
   "name": "python3"
  },
  "language_info": {
   "codemirror_mode": {
    "name": "ipython",
    "version": 3
   },
   "file_extension": ".py",
   "mimetype": "text/x-python",
   "name": "python",
   "nbconvert_exporter": "python",
   "pygments_lexer": "ipython3",
   "version": "3.7.5"
  }
 },
 "nbformat": 4,
 "nbformat_minor": 5
}
