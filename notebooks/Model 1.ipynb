{
 "cells": [
  {
   "cell_type": "code",
   "execution_count": 1,
   "id": "romantic-oracle",
   "metadata": {},
   "outputs": [],
   "source": [
    "import numpy as np\n",
    "import pandas as pd\n",
    "import torch\n",
    "import functools\n",
    "import operator"
   ]
  },
  {
   "cell_type": "code",
   "execution_count": 2,
   "id": "bacterial-syria",
   "metadata": {},
   "outputs": [],
   "source": [
    "pd.set_option('display.max_colwidth', None)"
   ]
  },
  {
   "cell_type": "code",
   "execution_count": 3,
   "id": "balanced-macintosh",
   "metadata": {},
   "outputs": [],
   "source": [
    "df_train = pd.read_pickle(\"../data/df_train.pkl\")\n",
    "df_test = pd.read_pickle(\"../data/df_test.pkl\")"
   ]
  },
  {
   "cell_type": "code",
   "execution_count": 4,
   "id": "consolidated-lancaster",
   "metadata": {},
   "outputs": [],
   "source": [
    "df_train_X = df_train.drop(columns = [\"cleavage_freq\"])\n",
    "df_train_y = df_train[\"cleavage_freq\"]"
   ]
  },
  {
   "cell_type": "markdown",
   "id": "danish-samuel",
   "metadata": {},
   "source": [
    "### Preprocessing"
   ]
  },
  {
   "cell_type": "code",
   "execution_count": 5,
   "id": "protected-program",
   "metadata": {},
   "outputs": [],
   "source": [
    "class Preprocessing:\n",
    "    def fold_seq(df):\n",
    "        df[\"stacked\"] = df[\"grna_target_sequence\"].apply(lambda x: x.tolist()) + df[\"target_sequence\"].apply(lambda x: x.tolist())\n",
    "        df[\"stacked\"] = df[\"stacked\"].apply(lambda x: np.array(x))\n",
    "    \n",
    "    def tensorfy(stacked):\n",
    "        temp = []\n",
    "        for i in stacked:\n",
    "            temp.append(i)\n",
    "        return torch.from_numpy(np.array(temp))"
   ]
  },
  {
   "cell_type": "code",
   "execution_count": 6,
   "id": "natural-national",
   "metadata": {},
   "outputs": [
    {
     "data": {
      "text/plain": [
       "tensor([[0.7500, 0.5000, 0.7500,  ..., 0.0000, 0.0000, 0.0000],\n",
       "        [0.7500, 0.7500, 0.7500,  ..., 0.0000, 0.0000, 0.0000],\n",
       "        [0.7500, 0.2500, 1.0000,  ..., 0.0000, 0.0000, 0.0000],\n",
       "        ...,\n",
       "        [0.7500, 0.5000, 1.0000,  ..., 0.0000, 0.0000, 0.0000],\n",
       "        [0.7500, 0.2500, 1.0000,  ..., 0.0000, 0.0000, 0.0000],\n",
       "        [0.7500, 0.5000, 0.7500,  ..., 0.0000, 0.0000, 0.0000]],\n",
       "       dtype=torch.float64)"
      ]
     },
     "execution_count": 6,
     "metadata": {},
     "output_type": "execute_result"
    }
   ],
   "source": [
    "Preprocessing.fold_seq(df_train_X)\n",
    "X = Preprocessing.tensorfy(df_train_X[\"stacked\"])\n",
    "X"
   ]
  },
  {
   "cell_type": "code",
   "execution_count": 7,
   "id": "focused-telling",
   "metadata": {},
   "outputs": [
    {
     "data": {
      "text/plain": [
       "tensor([1.3959e-24, 2.0800e-04, 2.4367e-04,  ..., 1.3700e-03, 3.8200e-02,\n",
       "        1.7638e-04])"
      ]
     },
     "execution_count": 7,
     "metadata": {},
     "output_type": "execute_result"
    }
   ],
   "source": [
    "y = torch.Tensor(np.array(df_train_y))\n",
    "y"
   ]
  },
  {
   "cell_type": "markdown",
   "id": "specific-fabric",
   "metadata": {},
   "source": [
    "### Model"
   ]
  },
  {
   "cell_type": "code",
   "execution_count": null,
   "id": "fresh-hybrid",
   "metadata": {},
   "outputs": [],
   "source": []
  }
 ],
 "metadata": {
  "kernelspec": {
   "display_name": "Python 3",
   "language": "python",
   "name": "python3"
  },
  "language_info": {
   "codemirror_mode": {
    "name": "ipython",
    "version": 3
   },
   "file_extension": ".py",
   "mimetype": "text/x-python",
   "name": "python",
   "nbconvert_exporter": "python",
   "pygments_lexer": "ipython3",
   "version": "3.7.5"
  }
 },
 "nbformat": 4,
 "nbformat_minor": 5
}
