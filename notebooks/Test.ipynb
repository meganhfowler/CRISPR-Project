{
 "cells": [
  {
   "cell_type": "code",
   "execution_count": 1,
   "id": "caroline-assumption",
   "metadata": {},
   "outputs": [],
   "source": [
    "import pandas as pd\n",
    "import numpy as np\n",
    "import torch\n",
    "import torch.nn as nn\n",
    "import torch.utils.data as Data\n",
    "from torch.autograd import Variable\n",
    "\n",
    "from sklearn.model_selection import train_test_split\n",
    "\n",
    "import functools"
   ]
  },
  {
   "cell_type": "code",
   "execution_count": 2,
   "id": "republican-defensive",
   "metadata": {},
   "outputs": [],
   "source": [
    "df = pd.read_csv(\"../data/raw_data.csv\")"
   ]
  },
  {
   "cell_type": "code",
   "execution_count": 3,
   "id": "growing-display",
   "metadata": {},
   "outputs": [],
   "source": [
    "df_train, df_test = train_test_split(df, test_size = 0.2)"
   ]
  },
  {
   "cell_type": "code",
   "execution_count": 4,
   "id": "comparable-brother",
   "metadata": {},
   "outputs": [],
   "source": [
    "df_train.to_csv(\"train.csv\")\n",
    "df_test.to_csv(\"test.csv\")"
   ]
  },
  {
   "cell_type": "code",
   "execution_count": 5,
   "id": "cognitive-service",
   "metadata": {},
   "outputs": [],
   "source": [
    "df_train = pd.read_csv(\"train.csv\")"
   ]
  },
  {
   "cell_type": "code",
   "execution_count": 6,
   "id": "dominant-mercury",
   "metadata": {},
   "outputs": [
    {
     "data": {
      "text/plain": [
       "(20505, 30)"
      ]
     },
     "execution_count": 6,
     "metadata": {},
     "output_type": "execute_result"
    }
   ],
   "source": [
    "df_train.shape"
   ]
  },
  {
   "cell_type": "code",
   "execution_count": 7,
   "id": "following-australian",
   "metadata": {},
   "outputs": [],
   "source": [
    "model_file_path = \"model.pkl\"\n",
    "params = [\"grna_target_sequence\", \"target_sequence\"]"
   ]
  },
  {
   "cell_type": "code",
   "execution_count": 8,
   "id": "brazilian-courtesy",
   "metadata": {},
   "outputs": [],
   "source": [
    "# Drop NA\n",
    "params.append(\"cleavage_freq\")\n",
    "for col in params:\n",
    "    df_train = df_train[df_train[col].notna()]\n",
    "params.remove(\"cleavage_freq\")"
   ]
  },
  {
   "cell_type": "markdown",
   "id": "developing-bahamas",
   "metadata": {},
   "source": [
    "### Get X"
   ]
  },
  {
   "cell_type": "code",
   "execution_count": 9,
   "id": "prescribed-starter",
   "metadata": {},
   "outputs": [
    {
     "name": "stdout",
     "output_type": "stream",
     "text": [
      "                                    grna_target_sequence  \\\n",
      "0      [0.75, 0.5, 0.75, 0.25, 0.5, 0.25, 0.25, 0.75,...   \n",
      "1      [0.75, 0.5, 0.75, 0.25, 0.5, 0.25, 0.25, 0.75,...   \n",
      "2      [0.75, 0.25, 1.0, 0.75, 1.0, 0.25, 0.5, 0.25, ...   \n",
      "3      [0.75, 0.75, 0.5, 0.75, 0.25, 0.75, 0.5, 0.75,...   \n",
      "4      [0.75, 0.25, 1.0, 1.0, 1.0, 1.0, 1.0, 0.5, 1.0...   \n",
      "...                                                  ...   \n",
      "20500  [0.75, 0.25, 1.0, 0.75, 1.0, 0.25, 0.5, 0.25, ...   \n",
      "20501  [0.75, 0.25, 1.0, 0.75, 1.0, 0.25, 0.5, 0.25, ...   \n",
      "20502  [0.25, 0.75, 0.25, 0.25, 0.75, 0.75, 0.25, 0.7...   \n",
      "20503  [0.75, 0.25, 0.75, 0.5, 1.0, 1.0, 0.75, 0.25, ...   \n",
      "20504  [0.75, 0.25, 1.0, 0.75, 1.0, 0.25, 0.5, 0.25, ...   \n",
      "\n",
      "                                         target_sequence  \\\n",
      "0      [0.75, 0.5, 0.75, 0.25, 0.75, 0.25, 0.25, 0.75...   \n",
      "1      [0.75, 0.5, 0.75, 0.25, 0.5, 0.25, 0.25, 0.75,...   \n",
      "2      [0.75, 0.25, 1.0, 0.75, 0.5, 1.0, 1.0, 0.25, 0...   \n",
      "3      [0.75, 0.75, 0.5, 0.75, 0.25, 0.75, 0.5, 0.75,...   \n",
      "4      [0.25, 0.75, 1.0, 1.0, 1.0, 1.0, 1.0, 0.25, 1....   \n",
      "...                                                  ...   \n",
      "20500  [0.75, 0.25, 0.75, 0.75, 1.0, 0.25, 0.5, 0.25,...   \n",
      "20501  [0.75, 0.25, 1.0, 0.75, 1.0, 0.25, 0.5, 0.25, ...   \n",
      "20502  [0.75, 0.5, 0.75, 0.25, 0.75, 0.25, 0.75, 0.5,...   \n",
      "20503  [0.75, 0.25, 0.75, 0.25, 0.75, 0.25, 0.75, 0.2...   \n",
      "20504  [0.75, 0.25, 1.0, 0.75, 1.0, 0.5, 0.5, 0.25, 0...   \n",
      "\n",
      "                                                combined  \n",
      "0      [0.75, 0.5, 0.75, 0.25, 0.5, 0.25, 0.25, 0.75,...  \n",
      "1      [0.75, 0.5, 0.75, 0.25, 0.5, 0.25, 0.25, 0.75,...  \n",
      "2      [0.75, 0.25, 1.0, 0.75, 1.0, 0.25, 0.5, 0.25, ...  \n",
      "3      [0.75, 0.75, 0.5, 0.75, 0.25, 0.75, 0.5, 0.75,...  \n",
      "4      [0.75, 0.25, 1.0, 1.0, 1.0, 1.0, 1.0, 0.5, 1.0...  \n",
      "...                                                  ...  \n",
      "20500  [0.75, 0.25, 1.0, 0.75, 1.0, 0.25, 0.5, 0.25, ...  \n",
      "20501  [0.75, 0.25, 1.0, 0.75, 1.0, 0.25, 0.5, 0.25, ...  \n",
      "20502  [0.25, 0.75, 0.25, 0.25, 0.75, 0.75, 0.25, 0.7...  \n",
      "20503  [0.75, 0.25, 0.75, 0.5, 1.0, 1.0, 0.75, 0.25, ...  \n",
      "20504  [0.75, 0.25, 1.0, 0.75, 1.0, 0.25, 0.5, 0.25, ...  \n",
      "\n",
      "[20450 rows x 3 columns]\n",
      "grna_target_sequence    object\n",
      "target_sequence         object\n",
      "combined                object\n",
      "dtype: object\n",
      "                                    grna_target_sequence  \\\n",
      "0      [0.75, 0.5, 0.75, 0.25, 0.5, 0.25, 0.25, 0.75,...   \n",
      "1      [0.75, 0.5, 0.75, 0.25, 0.5, 0.25, 0.25, 0.75,...   \n",
      "2      [0.75, 0.25, 1.0, 0.75, 1.0, 0.25, 0.5, 0.25, ...   \n",
      "3      [0.75, 0.75, 0.5, 0.75, 0.25, 0.75, 0.5, 0.75,...   \n",
      "4      [0.75, 0.25, 1.0, 1.0, 1.0, 1.0, 1.0, 0.5, 1.0...   \n",
      "...                                                  ...   \n",
      "20500  [0.75, 0.25, 1.0, 0.75, 1.0, 0.25, 0.5, 0.25, ...   \n",
      "20501  [0.75, 0.25, 1.0, 0.75, 1.0, 0.25, 0.5, 0.25, ...   \n",
      "20502  [0.25, 0.75, 0.25, 0.25, 0.75, 0.75, 0.25, 0.7...   \n",
      "20503  [0.75, 0.25, 0.75, 0.5, 1.0, 1.0, 0.75, 0.25, ...   \n",
      "20504  [0.75, 0.25, 1.0, 0.75, 1.0, 0.25, 0.5, 0.25, ...   \n",
      "\n",
      "                                         target_sequence  \\\n",
      "0      [0.75, 0.5, 0.75, 0.25, 0.75, 0.25, 0.25, 0.75...   \n",
      "1      [0.75, 0.5, 0.75, 0.25, 0.5, 0.25, 0.25, 0.75,...   \n",
      "2      [0.75, 0.25, 1.0, 0.75, 0.5, 1.0, 1.0, 0.25, 0...   \n",
      "3      [0.75, 0.75, 0.5, 0.75, 0.25, 0.75, 0.5, 0.75,...   \n",
      "4      [0.25, 0.75, 1.0, 1.0, 1.0, 1.0, 1.0, 0.25, 1....   \n",
      "...                                                  ...   \n",
      "20500  [0.75, 0.25, 0.75, 0.75, 1.0, 0.25, 0.5, 0.25,...   \n",
      "20501  [0.75, 0.25, 1.0, 0.75, 1.0, 0.25, 0.5, 0.25, ...   \n",
      "20502  [0.75, 0.5, 0.75, 0.25, 0.75, 0.25, 0.75, 0.5,...   \n",
      "20503  [0.75, 0.25, 0.75, 0.25, 0.75, 0.25, 0.75, 0.2...   \n",
      "20504  [0.75, 0.25, 1.0, 0.75, 1.0, 0.5, 0.5, 0.25, 0...   \n",
      "\n",
      "                                                combined  \\\n",
      "0      [0.75, 0.5, 0.75, 0.25, 0.5, 0.25, 0.25, 0.75,...   \n",
      "1      [0.75, 0.5, 0.75, 0.25, 0.5, 0.25, 0.25, 0.75,...   \n",
      "2      [0.75, 0.25, 1.0, 0.75, 1.0, 0.25, 0.5, 0.25, ...   \n",
      "3      [0.75, 0.75, 0.5, 0.75, 0.25, 0.75, 0.5, 0.75,...   \n",
      "4      [0.75, 0.25, 1.0, 1.0, 1.0, 1.0, 1.0, 0.5, 1.0...   \n",
      "...                                                  ...   \n",
      "20500  [0.75, 0.25, 1.0, 0.75, 1.0, 0.25, 0.5, 0.25, ...   \n",
      "20501  [0.75, 0.25, 1.0, 0.75, 1.0, 0.25, 0.5, 0.25, ...   \n",
      "20502  [0.25, 0.75, 0.25, 0.25, 0.75, 0.75, 0.25, 0.7...   \n",
      "20503  [0.75, 0.25, 0.75, 0.5, 1.0, 1.0, 0.75, 0.25, ...   \n",
      "20504  [0.75, 0.25, 1.0, 0.75, 1.0, 0.25, 0.5, 0.25, ...   \n",
      "\n",
      "                                                 stacked  \n",
      "0      [0.75, 0.5, 0.75, 0.25, 0.5, 0.25, 0.25, 0.75,...  \n",
      "1      [0.75, 0.5, 0.75, 0.25, 0.5, 0.25, 0.25, 0.75,...  \n",
      "2      [0.75, 0.25, 1.0, 0.75, 1.0, 0.25, 0.5, 0.25, ...  \n",
      "3      [0.75, 0.75, 0.5, 0.75, 0.25, 0.75, 0.5, 0.75,...  \n",
      "4      [0.75, 0.25, 1.0, 1.0, 1.0, 1.0, 1.0, 0.5, 1.0...  \n",
      "...                                                  ...  \n",
      "20500  [0.75, 0.25, 1.0, 0.75, 1.0, 0.25, 0.5, 0.25, ...  \n",
      "20501  [0.75, 0.25, 1.0, 0.75, 1.0, 0.25, 0.5, 0.25, ...  \n",
      "20502  [0.25, 0.75, 0.25, 0.25, 0.75, 0.75, 0.25, 0.7...  \n",
      "20503  [0.75, 0.25, 0.75, 0.5, 1.0, 1.0, 0.75, 0.25, ...  \n",
      "20504  [0.75, 0.25, 1.0, 0.75, 1.0, 0.25, 0.5, 0.25, ...  \n",
      "\n",
      "[20450 rows x 4 columns]\n"
     ]
    }
   ],
   "source": [
    "# Select\n",
    "df_X = df_train[params]\n",
    "\n",
    "# Convert to string\n",
    "df_X = df_X[params].convert_dtypes()\n",
    "\n",
    "#Remove dash\n",
    "for col in df_X.select_dtypes(exclude = [\"number\"]).columns:\n",
    "    df_X[col] = [\n",
    "        seq.replace(\"-\", \"\")\n",
    "        for seq in df_X[col]\n",
    "    ]\n",
    "\n",
    "# Pad\n",
    "for col in df_X.select_dtypes(exclude = [\"number\"]).columns:\n",
    "    df_X[col] = df_X[col].str.pad(width = 50, side = \"right\", fillchar = \"X\")\n",
    "\n",
    "# Encode\n",
    "def encode_nt(nt:str) -> int:\n",
    "    assert len(nt) == 1\n",
    "    encoding_dict = {\n",
    "        'X': 0,\n",
    "        'A': 0.25,\n",
    "        'T': 0.5,\n",
    "        'G': 0.75,\n",
    "        'C': 1\n",
    "    }\n",
    "    return encoding_dict.get(nt.upper())\n",
    "def encode_seq(seq:str):\n",
    "    encoding = [\n",
    "        encode_nt(nt)\n",
    "        for nt in seq\n",
    "    ]\n",
    "    return np.array(encoding)\n",
    "\n",
    "def encode_col(df, col):\n",
    "    df[col] = [\n",
    "        encode_seq(seq)\n",
    "        for seq in df[col]\n",
    "    ]\n",
    "    return df\n",
    "\n",
    "def encode(df):\n",
    "    for col in df.select_dtypes(exclude = [\"number\"]).columns:\n",
    "        encode_col(df, col)\n",
    "    return df\n",
    "df_X = encode(df_X)\n",
    "\n",
    "# fold\n",
    "df_X[\"combined\"] = functools.reduce(lambda x, y: df_X[x].apply(lambda x: x.tolist()) + df_X[y].apply(lambda x: x.tolist()),  df_X.columns)\n",
    "    \n",
    "print(df_X)\n",
    "print(df_X.dtypes)\n",
    "    \n",
    "df_X[\"stacked\"] = df_X[\"grna_target_sequence\"].apply(lambda x: x.tolist()) + df_X[\"target_sequence\"].apply(lambda x: x.tolist())\n",
    "#df_X[\"stacked\"] = df_X[\"stacked\"].apply(lambda x: np.array(x))\n",
    "print(df_X)\n",
    "\n",
    "# Tensorfy\n",
    "temp = []\n",
    "for i in df_X[\"stacked\"]:\n",
    "    temp.append(i)\n",
    "X = torch.from_numpy(np.array(temp).astype(np.float32))"
   ]
  },
  {
   "cell_type": "code",
   "execution_count": 10,
   "id": "damaged-question",
   "metadata": {},
   "outputs": [
    {
     "ename": "NameError",
     "evalue": "name 'd' is not defined",
     "output_type": "error",
     "traceback": [
      "\u001b[0;31m---------------------------------------------------------------------------\u001b[0m",
      "\u001b[0;31mNameError\u001b[0m                                 Traceback (most recent call last)",
      "\u001b[0;32m<ipython-input-10-e983f374794d>\u001b[0m in \u001b[0;36m<module>\u001b[0;34m\u001b[0m\n\u001b[0;32m----> 1\u001b[0;31m \u001b[0md\u001b[0m\u001b[0;34m\u001b[0m\u001b[0;34m\u001b[0m\u001b[0m\n\u001b[0m",
      "\u001b[0;31mNameError\u001b[0m: name 'd' is not defined"
     ]
    }
   ],
   "source": [
    "d"
   ]
  },
  {
   "cell_type": "markdown",
   "id": "tutorial-canal",
   "metadata": {},
   "source": [
    "### Get y"
   ]
  },
  {
   "cell_type": "code",
   "execution_count": null,
   "id": "bulgarian-parameter",
   "metadata": {},
   "outputs": [],
   "source": [
    "df_y = df_train[\"cleavage_freq\"]\n",
    "y = torch.Tensor(np.array(df_y).reshape(df_y.shape[0], 1).astype(np.float32))"
   ]
  },
  {
   "cell_type": "code",
   "execution_count": null,
   "id": "painted-flashing",
   "metadata": {},
   "outputs": [],
   "source": [
    "y"
   ]
  },
  {
   "cell_type": "code",
   "execution_count": null,
   "id": "preliminary-aging",
   "metadata": {},
   "outputs": [],
   "source": [
    "y.dtype"
   ]
  },
  {
   "cell_type": "markdown",
   "id": "understanding-vegetarian",
   "metadata": {},
   "source": [
    "### Train"
   ]
  },
  {
   "cell_type": "code",
   "execution_count": null,
   "id": "worldwide-prompt",
   "metadata": {},
   "outputs": [],
   "source": [
    "input_dim = X.shape[1]\n",
    "X = Variable(X)\n",
    "y = Variable(y)\n",
    "model = nn.Linear(input_dim, 1)\n",
    "loss_func = nn.MSELoss()\n",
    "optimizer = torch.optim.SGD(model.parameters(), lr = 1e-5)\n",
    "BATCH_SIZE = 5\n",
    "EPOCH = 5\n",
    "torch_dataset = Data.TensorDataset(X, y)\n",
    "loader = Data.DataLoader(\n",
    "    dataset = torch_dataset,\n",
    "    batch_size = BATCH_SIZE,\n",
    "    shuffle = True,\n",
    "    num_workers = 2\n",
    ")\n",
    "for epoch in range(EPOCH):\n",
    "    for step, (batch_x, batch_y) in enumerate(loader):\n",
    "        prediction = model(batch_x)\n",
    "        print(prediction)\n",
    "        loss = loss_func(prediction, batch_y)\n",
    "        loss.backward()\n",
    "        optimizer.step()\n",
    "        optimizer.zero_grad()"
   ]
  },
  {
   "cell_type": "code",
   "execution_count": null,
   "id": "handed-alpha",
   "metadata": {},
   "outputs": [],
   "source": [
    "df_X.columns"
   ]
  },
  {
   "cell_type": "code",
   "execution_count": null,
   "id": "freelance-petite",
   "metadata": {},
   "outputs": [],
   "source": []
  },
  {
   "cell_type": "code",
   "execution_count": null,
   "id": "specialized-lebanon",
   "metadata": {},
   "outputs": [],
   "source": []
  }
 ],
 "metadata": {
  "kernelspec": {
   "display_name": "Python 3",
   "language": "python",
   "name": "python3"
  },
  "language_info": {
   "codemirror_mode": {
    "name": "ipython",
    "version": 3
   },
   "file_extension": ".py",
   "mimetype": "text/x-python",
   "name": "python",
   "nbconvert_exporter": "python",
   "pygments_lexer": "ipython3",
   "version": "3.7.5"
  }
 },
 "nbformat": 4,
 "nbformat_minor": 5
}
